{
  "nbformat": 4,
  "nbformat_minor": 0,
  "metadata": {
    "colab": {
      "name": "LS_DS17_121_t_tests.ipynb",
      "provenance": [],
      "collapsed_sections": [
        "J5yqXAdRzvt_",
        "dTB0Rx3M0a_v",
        "FMhDKOFND0qY"
      ],
      "include_colab_link": true
    },
    "kernelspec": {
      "display_name": "Python 3",
      "language": "python",
      "name": "python3"
    },
    "language_info": {
      "codemirror_mode": {
        "name": "ipython",
        "version": 3
      },
      "file_extension": ".py",
      "mimetype": "text/x-python",
      "name": "python",
      "nbconvert_exporter": "python",
      "pygments_lexer": "ipython3",
      "version": "3.7.3"
    }
  },
  "cells": [
    {
      "cell_type": "markdown",
      "metadata": {
        "id": "view-in-github",
        "colab_type": "text"
      },
      "source": [
        "<a href=\"https://colab.research.google.com/github/skhabiri/DS-Unit-1-Sprint-2-Statistics/blob/master/module1/LS_DS17_121_t_tests.ipynb\" target=\"_parent\"><img src=\"https://colab.research.google.com/assets/colab-badge.svg\" alt=\"Open In Colab\"/></a>"
      ]
    },
    {
      "cell_type": "markdown",
      "metadata": {
        "colab_type": "text",
        "id": "eJGtmni-DezY"
      },
      "source": [
        "## *Data Science Unit 1 Sprint 2 Module 1*\n",
        "\n",
        "# T-tests (Inferential Statistics)\n",
        "\n",
        "## Learning Objectives\n",
        "- Student can explain the purpose of and be able to identify opportunities and applications for t-tests\n",
        "- Student can set up and run a one-sample t test on a sample\n",
        "- Student can set up and run a two-sample t test comparing two samples\n",
        "- Student can use a p-value to draw the correct conclusion about the null and alternative hypothesis and give a written conclusion"
      ]
    },
    {
      "cell_type": "markdown",
      "metadata": {
        "id": "WOXkk77hbeP5",
        "colab_type": "text"
      },
      "source": [
        "## What is Descriptive Statistics?\n",
        "\n",
        "<https://statistics.laerd.com/statistical-guides/descriptive-inferential-statistics.php>"
      ]
    },
    {
      "cell_type": "code",
      "metadata": {
        "id": "aGsGGy4Mb9IG",
        "colab_type": "code",
        "outputId": "f6cae06d-8909-474b-d279-ff331482f118",
        "colab": {
          "base_uri": "https://localhost:8080/",
          "height": 197
        }
      },
      "source": [
        "import pandas as pd\n",
        "df = pd.DataFrame({'a': [1,2,3,4,5], 'b': [2,4,6,8,10]})\n",
        "df.head()"
      ],
      "execution_count": 0,
      "outputs": [
        {
          "output_type": "execute_result",
          "data": {
            "text/html": [
              "<div>\n",
              "<style scoped>\n",
              "    .dataframe tbody tr th:only-of-type {\n",
              "        vertical-align: middle;\n",
              "    }\n",
              "\n",
              "    .dataframe tbody tr th {\n",
              "        vertical-align: top;\n",
              "    }\n",
              "\n",
              "    .dataframe thead th {\n",
              "        text-align: right;\n",
              "    }\n",
              "</style>\n",
              "<table border=\"1\" class=\"dataframe\">\n",
              "  <thead>\n",
              "    <tr style=\"text-align: right;\">\n",
              "      <th></th>\n",
              "      <th>a</th>\n",
              "      <th>b</th>\n",
              "    </tr>\n",
              "  </thead>\n",
              "  <tbody>\n",
              "    <tr>\n",
              "      <th>0</th>\n",
              "      <td>1</td>\n",
              "      <td>2</td>\n",
              "    </tr>\n",
              "    <tr>\n",
              "      <th>1</th>\n",
              "      <td>2</td>\n",
              "      <td>4</td>\n",
              "    </tr>\n",
              "    <tr>\n",
              "      <th>2</th>\n",
              "      <td>3</td>\n",
              "      <td>6</td>\n",
              "    </tr>\n",
              "    <tr>\n",
              "      <th>3</th>\n",
              "      <td>4</td>\n",
              "      <td>8</td>\n",
              "    </tr>\n",
              "    <tr>\n",
              "      <th>4</th>\n",
              "      <td>5</td>\n",
              "      <td>10</td>\n",
              "    </tr>\n",
              "  </tbody>\n",
              "</table>\n",
              "</div>"
            ],
            "text/plain": [
              "   a   b\n",
              "0  1   2\n",
              "1  2   4\n",
              "2  3   6\n",
              "3  4   8\n",
              "4  5  10"
            ]
          },
          "metadata": {
            "tags": []
          },
          "execution_count": 2
        }
      ]
    },
    {
      "cell_type": "code",
      "metadata": {
        "id": "K-73WFB5cI1_",
        "colab_type": "code",
        "outputId": "60dadbfd-90e0-42a3-e107-f910ccd656af",
        "colab": {
          "base_uri": "https://localhost:8080/",
          "height": 287
        }
      },
      "source": [
        "# How can we quickly look at some descriptive statistics of the above dataframe?\n",
        "\n",
        "df.describe()"
      ],
      "execution_count": 0,
      "outputs": [
        {
          "output_type": "execute_result",
          "data": {
            "text/html": [
              "<div>\n",
              "<style scoped>\n",
              "    .dataframe tbody tr th:only-of-type {\n",
              "        vertical-align: middle;\n",
              "    }\n",
              "\n",
              "    .dataframe tbody tr th {\n",
              "        vertical-align: top;\n",
              "    }\n",
              "\n",
              "    .dataframe thead th {\n",
              "        text-align: right;\n",
              "    }\n",
              "</style>\n",
              "<table border=\"1\" class=\"dataframe\">\n",
              "  <thead>\n",
              "    <tr style=\"text-align: right;\">\n",
              "      <th></th>\n",
              "      <th>a</th>\n",
              "      <th>b</th>\n",
              "    </tr>\n",
              "  </thead>\n",
              "  <tbody>\n",
              "    <tr>\n",
              "      <th>count</th>\n",
              "      <td>5.000000</td>\n",
              "      <td>5.000000</td>\n",
              "    </tr>\n",
              "    <tr>\n",
              "      <th>mean</th>\n",
              "      <td>3.000000</td>\n",
              "      <td>6.000000</td>\n",
              "    </tr>\n",
              "    <tr>\n",
              "      <th>std</th>\n",
              "      <td>1.581139</td>\n",
              "      <td>3.162278</td>\n",
              "    </tr>\n",
              "    <tr>\n",
              "      <th>min</th>\n",
              "      <td>1.000000</td>\n",
              "      <td>2.000000</td>\n",
              "    </tr>\n",
              "    <tr>\n",
              "      <th>25%</th>\n",
              "      <td>2.000000</td>\n",
              "      <td>4.000000</td>\n",
              "    </tr>\n",
              "    <tr>\n",
              "      <th>50%</th>\n",
              "      <td>3.000000</td>\n",
              "      <td>6.000000</td>\n",
              "    </tr>\n",
              "    <tr>\n",
              "      <th>75%</th>\n",
              "      <td>4.000000</td>\n",
              "      <td>8.000000</td>\n",
              "    </tr>\n",
              "    <tr>\n",
              "      <th>max</th>\n",
              "      <td>5.000000</td>\n",
              "      <td>10.000000</td>\n",
              "    </tr>\n",
              "  </tbody>\n",
              "</table>\n",
              "</div>"
            ],
            "text/plain": [
              "              a          b\n",
              "count  5.000000   5.000000\n",
              "mean   3.000000   6.000000\n",
              "std    1.581139   3.162278\n",
              "min    1.000000   2.000000\n",
              "25%    2.000000   4.000000\n",
              "50%    3.000000   6.000000\n",
              "75%    4.000000   8.000000\n",
              "max    5.000000  10.000000"
            ]
          },
          "metadata": {
            "tags": []
          },
          "execution_count": 3
        }
      ]
    },
    {
      "cell_type": "code",
      "metadata": {
        "id": "FcFcn6CKvHXD",
        "colab_type": "code",
        "outputId": "07c2e3f4-47d1-4611-829d-0e3064be3392",
        "colab": {
          "base_uri": "https://localhost:8080/",
          "height": 176
        }
      },
      "source": [
        "df.info()"
      ],
      "execution_count": 0,
      "outputs": [
        {
          "output_type": "stream",
          "text": [
            "<class 'pandas.core.frame.DataFrame'>\n",
            "RangeIndex: 5 entries, 0 to 4\n",
            "Data columns (total 2 columns):\n",
            " #   Column  Non-Null Count  Dtype\n",
            "---  ------  --------------  -----\n",
            " 0   a       5 non-null      int64\n",
            " 1   b       5 non-null      int64\n",
            "dtypes: int64(2)\n",
            "memory usage: 208.0 bytes\n"
          ],
          "name": "stdout"
        }
      ]
    },
    {
      "cell_type": "code",
      "metadata": {
        "id": "5e6TiZ7MvLyO",
        "colab_type": "code",
        "outputId": "a0a8b739-8a23-475e-863b-add8dadb4ec2",
        "colab": {
          "base_uri": "https://localhost:8080/",
          "height": 264
        }
      },
      "source": [
        "df['a'].hist();"
      ],
      "execution_count": 0,
      "outputs": [
        {
          "output_type": "display_data",
          "data": {
            "image/png": "[encoded data removed]",
            "text/plain": [
              "<Figure size 432x288 with 1 Axes>"
            ]
          },
          "metadata": {
            "tags": [],
            "needs_background": "light"
          }
        }
      ]
    },
    {
      "cell_type": "markdown",
      "metadata": {
        "id": "wtobOQescQU6",
        "colab_type": "text"
      },
      "source": [
        "## What is Inferential Statistics?\n",
        "\n",
        "<https://slideplayer.com/slide/5130463/16/images/2/Statistical+Inference.jpg>\n",
        "\n",
        "![Inferential Statistics](https://slideplayer.com/slide/5130463/16/images/2/Statistical+Inference.jpg)"
      ]
    },
    {
      "cell_type": "markdown",
      "metadata": {
        "id": "zsb1KMUSc2xe",
        "colab_type": "text"
      },
      "source": [
        "## Hypothesis Testing (T-Tests)\n",
        "\n",
        "Drawing conclusions based on probability in the face of randomness"
      ]
    },
    {
      "cell_type": "markdown",
      "metadata": {
        "id": "8y3UAjKk2a9Q",
        "colab_type": "text"
      },
      "source": [
        "\n",
        "\n",
        "Is the sample reflective of our concept of the population?"
      ]
    },
    {
      "cell_type": "code",
      "metadata": {
        "id": "crjmZDqIxaHK",
        "colab_type": "code",
        "colab": {}
      },
      "source": [
        "import pandas as pd\n",
        "import numpy as np"
      ],
      "execution_count": 0,
      "outputs": []
    },
    {
      "cell_type": "code",
      "metadata": {
        "id": "cPn_nCwv2g8u",
        "colab_type": "code",
        "outputId": "cf33e859-5ff2-4389-d220-225b0f3cd20f",
        "colab": {
          "base_uri": "https://localhost:8080/",
          "height": 34
        }
      },
      "source": [
        "# Coinflips example - What is the population?\n",
        "# Population = Every coinflips that could have ever taken place \n",
        "# with a fair coin.\n",
        "\n",
        "coinflips = np.random.binomial(n=1, p=.5, size=10)\n",
        "\n",
        "coinflips"
      ],
      "execution_count": 0,
      "outputs": [
        {
          "output_type": "execute_result",
          "data": {
            "text/plain": [
              "array([0, 0, 1, 1, 1, 0, 1, 1, 1, 0])"
            ]
          },
          "metadata": {
            "tags": []
          },
          "execution_count": 7
        }
      ]
    },
    {
      "cell_type": "markdown",
      "metadata": {
        "id": "uckTDVzW2mI9",
        "colab_type": "text"
      },
      "source": [
        "If we repeat the sampling why does our estimate of the mean move around so much? "
      ]
    },
    {
      "cell_type": "code",
      "metadata": {
        "id": "MruqBL-V2lmk",
        "colab_type": "code",
        "outputId": "97377040-fe6e-4a07-8bff-c3737694f470",
        "colab": {
          "base_uri": "https://localhost:8080/",
          "height": 34
        }
      },
      "source": [
        "# Coinflips example - See the implications of randomness\n",
        "coinflips = np.random.binomial(n=1, p=.5, size=10)\n",
        "\n",
        "coinflips.mean()"
      ],
      "execution_count": 0,
      "outputs": [
        {
          "output_type": "execute_result",
          "data": {
            "text/plain": [
              "0.7"
            ]
          },
          "metadata": {
            "tags": []
          },
          "execution_count": 8
        }
      ]
    },
    {
      "cell_type": "markdown",
      "metadata": {
        "id": "xg-71rfp23Pn",
        "colab_type": "text"
      },
      "source": [
        "What happens as I increase the sample size? The sample mean deviates less from the...?"
      ]
    },
    {
      "cell_type": "code",
      "metadata": {
        "id": "C9SjxA0z3FdT",
        "colab_type": "code",
        "outputId": "1101a9bf-fb8f-474d-ef5b-e5e76e777424",
        "colab": {
          "base_uri": "https://localhost:8080/",
          "height": 34
        }
      },
      "source": [
        "# More Information -> Greater Confidence in the face of randomness\n",
        "coinflips = np.random.binomial(n=1, p=.5, size=100)\n",
        "\n",
        "coinflips.mean()"
      ],
      "execution_count": 0,
      "outputs": [
        {
          "output_type": "execute_result",
          "data": {
            "text/plain": [
              "0.48"
            ]
          },
          "metadata": {
            "tags": []
          },
          "execution_count": 9
        }
      ]
    },
    {
      "cell_type": "code",
      "metadata": {
        "id": "S4FBm4PIzPLd",
        "colab_type": "code",
        "outputId": "d0998d93-9ffc-4bdb-f0ed-081f48c2b57c",
        "colab": {
          "base_uri": "https://localhost:8080/",
          "height": 34
        }
      },
      "source": [
        "coinflips = np.random.binomial(n=1, p=.5, size=1000000)\n",
        "\n",
        "coinflips.mean()"
      ],
      "execution_count": 0,
      "outputs": [
        {
          "output_type": "execute_result",
          "data": {
            "text/plain": [
              "0.500106"
            ]
          },
          "metadata": {
            "tags": []
          },
          "execution_count": 10
        }
      ]
    },
    {
      "cell_type": "markdown",
      "metadata": {
        "id": "bohfYwWc624k",
        "colab_type": "text"
      },
      "source": [
        "![Standard Error of the Sample  Mean](https://jungminded.weebly.com/uploads/1/3/5/8/13582285/7285766_orig.jpeg?160)"
      ]
    },
    {
      "cell_type": "markdown",
      "metadata": {
        "id": "J5yqXAdRzvt_",
        "colab_type": "text"
      },
      "source": [
        "### Sample Values (latin characters)\n",
        "$\\bar{x}$ = Sample Mean\n",
        "\n",
        "$s$ = Sample Standard Deviation\n",
        "\n",
        "$n$ = Sample Size"
      ]
    },
    {
      "cell_type": "markdown",
      "metadata": {
        "id": "dTB0Rx3M0a_v",
        "colab_type": "text"
      },
      "source": [
        "### Population Values (greek characters)\n",
        "$\\mu$ = Population Mean\n",
        "\n",
        "$\\sigma$ = Population Standard Deviation\n",
        "\n",
        "\n"
      ]
    },
    {
      "cell_type": "markdown",
      "metadata": {
        "id": "7f7Rw9fF3V3k",
        "colab_type": "text"
      },
      "source": [
        "**Conclusion: As our sample size goes up, our estimates (of the mean in this case) get more precise, allowing us to infer things about the population with greater confidence.**\n",
        "\n"
      ]
    },
    {
      "cell_type": "markdown",
      "metadata": {
        "id": "BoAazT-O3-Wm",
        "colab_type": "text"
      },
      "source": [
        "## One Sample T-test\n",
        "\n",
        "What if I didn't have a fair coin?\n",
        "\n",
        "Comparing information from a sample against our concept of the population.\n",
        "\n",
        "![One Sample T Statistic](https://www.statisticshowto.com/wp-content/uploads/2015/09/t-score.jpg)"
      ]
    },
    {
      "cell_type": "code",
      "metadata": {
        "id": "wX412FqS1LrY",
        "colab_type": "code",
        "outputId": "97f95197-3c4e-4b44-96fd-ee9f7ce6d85e",
        "colab": {
          "base_uri": "https://localhost:8080/",
          "height": 34
        }
      },
      "source": [
        "coinflips = np.random.binomial(n=1, p=.6, size=10)\n",
        "\n",
        "coinflips"
      ],
      "execution_count": 0,
      "outputs": [
        {
          "output_type": "execute_result",
          "data": {
            "text/plain": [
              "array([1, 1, 0, 1, 1, 1, 1, 0, 0, 1])"
            ]
          },
          "metadata": {
            "tags": []
          },
          "execution_count": 11
        }
      ]
    },
    {
      "cell_type": "code",
      "metadata": {
        "id": "Mt7_yij01iWo",
        "colab_type": "code",
        "outputId": "439d2df2-5210-40b1-be3c-f9a6f19d7758",
        "colab": {
          "base_uri": "https://localhost:8080/",
          "height": 34
        }
      },
      "source": [
        "coinflips = np.random.binomial(n=1, p=.6, size=10)\n",
        "\n",
        "coinflips"
      ],
      "execution_count": 0,
      "outputs": [
        {
          "output_type": "execute_result",
          "data": {
            "text/plain": [
              "array([1, 0, 0, 1, 1, 0, 0, 1, 1, 1])"
            ]
          },
          "metadata": {
            "tags": []
          },
          "execution_count": 12
        }
      ]
    },
    {
      "cell_type": "code",
      "metadata": {
        "id": "5CSmZmCy1kxU",
        "colab_type": "code",
        "outputId": "79f1dc76-057d-41ef-9513-030ce92c0055",
        "colab": {
          "base_uri": "https://localhost:8080/",
          "height": 34
        }
      },
      "source": [
        "coinflips = np.random.binomial(n=1, p=.6, size=10)\n",
        "\n",
        "coinflips"
      ],
      "execution_count": 0,
      "outputs": [
        {
          "output_type": "execute_result",
          "data": {
            "text/plain": [
              "array([1, 1, 1, 1, 1, 1, 1, 1, 0, 1])"
            ]
          },
          "metadata": {
            "tags": []
          },
          "execution_count": 13
        }
      ]
    },
    {
      "cell_type": "markdown",
      "metadata": {
        "id": "J_229CQ-4Wx6",
        "colab_type": "text"
      },
      "source": [
        "## The T-test Process:\n",
        "\n",
        "1) Null Hypothesis: This is a fair coin. \n",
        "\n",
        "$\\mu == \\bar{x}$\n",
        "\n",
        "My belief (my concept of the population) is that this is a fair coin (p=.5) -> $\\mu$\n",
        "\n",
        "What the sample is telling me: $\\bar{x}$\n",
        "\n",
        "2) Alternative Hypothesis (Opposite of the null)\n",
        "\n",
        "$\\mu \\neq \\bar{x}$\n",
        "\n",
        "The sample is different enough from my concept of the population, that it's unlikely that my sample came from a fair coin. \n",
        "\n",
        "3) Confidence Level: \n",
        "\n",
        "How likely does my alternative hypothesis need to be in order for me to reject the null hypothesis?\n",
        "\n",
        "How willing am I to be tricked by the randomness of sampling?\n",
        "\n",
        "Convention: 95% Confidence Level"
      ]
    },
    {
      "cell_type": "code",
      "metadata": {
        "id": "1aVMWuwI4ejP",
        "colab_type": "code",
        "outputId": "93d643f8-4e03-44f5-921e-99319bfb54d0",
        "colab": {
          "base_uri": "https://localhost:8080/",
          "height": 105
        }
      },
      "source": [
        "# Lets use a tool called a t-test to test if this is a fair coin or not\n",
        "coinflips = np.random.binomial(n=1, p=.6, size=100)\n",
        "\n",
        "coinflips"
      ],
      "execution_count": 0,
      "outputs": [
        {
          "output_type": "execute_result",
          "data": {
            "text/plain": [
              "array([1, 0, 0, 1, 1, 1, 1, 1, 1, 1, 1, 1, 1, 0, 1, 0, 1, 1, 0, 1, 1, 0,\n",
              "       0, 1, 1, 0, 0, 0, 1, 1, 0, 1, 1, 1, 1, 1, 1, 1, 0, 1, 0, 0, 0, 1,\n",
              "       1, 0, 0, 1, 1, 1, 1, 1, 0, 0, 1, 1, 1, 0, 0, 1, 1, 1, 0, 1, 0, 1,\n",
              "       1, 1, 1, 0, 0, 0, 1, 1, 1, 0, 1, 1, 1, 0, 0, 0, 1, 1, 1, 0, 1, 0,\n",
              "       1, 0, 0, 0, 1, 1, 1, 0, 0, 0, 1, 1])"
            ]
          },
          "metadata": {
            "tags": []
          },
          "execution_count": 14
        }
      ]
    },
    {
      "cell_type": "code",
      "metadata": {
        "id": "PtL2cXe47ohd",
        "colab_type": "code",
        "outputId": "b9ca0003-233a-408b-e81b-3346c0769802",
        "colab": {
          "base_uri": "https://localhost:8080/",
          "height": 34
        }
      },
      "source": [
        "coinflips.mean()"
      ],
      "execution_count": 0,
      "outputs": [
        {
          "output_type": "execute_result",
          "data": {
            "text/plain": [
              "0.62"
            ]
          },
          "metadata": {
            "tags": []
          },
          "execution_count": 15
        }
      ]
    },
    {
      "cell_type": "code",
      "metadata": {
        "id": "2gDTFUH14mtN",
        "colab_type": "code",
        "colab": {}
      },
      "source": [
        "from scipy import stats"
      ],
      "execution_count": 0,
      "outputs": []
    },
    {
      "cell_type": "code",
      "metadata": {
        "id": "lxE8Kb7v4Ogu",
        "colab_type": "code",
        "outputId": "c3189032-7cc3-48b6-fb7b-a1c7d3b0115c",
        "colab": {
          "base_uri": "https://localhost:8080/",
          "height": 34
        }
      },
      "source": [
        "# pass this function my sample\n",
        "# and my \"concept\" of the population (null hypothesis value)\n",
        "stats.ttest_1samp(coinflips, .05)"
      ],
      "execution_count": 0,
      "outputs": [
        {
          "output_type": "execute_result",
          "data": {
            "text/plain": [
              "Ttest_1sampResult(statistic=11.684356787961717, pvalue=2.435326309990877e-20)"
            ]
          },
          "metadata": {
            "tags": []
          },
          "execution_count": 17
        }
      ]
    },
    {
      "cell_type": "markdown",
      "metadata": {
        "id": "9BarzbpP4nNh",
        "colab_type": "text"
      },
      "source": [
        "p-value is: The probability of the null hypothesis being true, *given* the sample that we have collected. \n",
        "\n",
        "p-value threshold: (1-confidence_level) = (1-.95) =  .05\n",
        "\n",
        "p-value < .05 -> Reject the Null Hypothesis\n",
        "\n",
        "p-value >= .05 -> Fail to reject the null hypothesis (I'm not confident enough to rule out the null hypothesis)"
      ]
    },
    {
      "cell_type": "markdown",
      "metadata": {
        "id": "4tGWOR155h3D",
        "colab_type": "text"
      },
      "source": [
        "Conclusion: Based on a t-statistic of 4.255, and a p-value of .002, I **reject** the null hypothesis that this is a fair coin, and suggest the alternative, that this is an unfair coin. "
      ]
    },
    {
      "cell_type": "markdown",
      "metadata": {
        "id": "Mo5NFEDr5JiI",
        "colab_type": "text"
      },
      "source": [
        "## Two Sample T-test\n",
        "\n",
        "Comparing two groups or samples against each other rather than a single sample against a population. "
      ]
    },
    {
      "cell_type": "markdown",
      "metadata": {
        "id": "cOnNrJembf5c",
        "colab_type": "text"
      },
      "source": [
        "\n",
        "\n",
        "Ever thought about how long it takes to make a pancake? Have you ever compared the tooking time of a pancake on each eye of your stove? Is the cooking time different between the different eyes? Now, we can run an experiment and collect a sample of 1,000 pancakes on one eye and another 800 pancakes on the other eye. Assumed we used the same pan, batter, and technique on both eyes. Our average cooking times were 180 (5 std) and 178.5 (4.25 std) seconds repsectively. Now, we can tell those numbers are not identicial, but how confident are we that those numbers are practically the same? How do we know the slight difference isn't caused by some external randomness?\n",
        "\n",
        "Yes, today's lesson will help you figure out how long to cook your pancakes (*theoretically*). Experimentation is up to you; otherwise, you have to accept my data as true. How are going to accomplish this? With probability, statistics, inference and maple syrup (optional). \n",
        "\n",
        "<img src=\"https://images.unsplash.com/photo-1541288097308-7b8e3f58c4c6?ixlib=rb-1.2.1&ixid=eyJhcHBfaWQiOjEyMDd9&auto=format&fit=crop&w=3300&q=80\" width=400>\n",
        "\n"
      ]
    },
    {
      "cell_type": "code",
      "metadata": {
        "id": "4Fa6NM1M_sFY",
        "colab_type": "code",
        "colab": {}
      },
      "source": [
        "xbar1 = 180\n",
        "s1 = 5\n",
        "\n",
        "xbar2 = 178.5\n",
        "s2 = 4.25\n",
        "\n",
        "sample1 = np.random.normal(xbar1, s1, 1000)\n",
        "sample2 = np.random.normal(xbar2, s2, 800)"
      ],
      "execution_count": 0,
      "outputs": []
    },
    {
      "cell_type": "code",
      "metadata": {
        "id": "XnJ9zw9ZAAGD",
        "colab_type": "code",
        "outputId": "35837371-34b3-489f-8016-e0a615e07bc5",
        "colab": {
          "base_uri": "https://localhost:8080/",
          "height": 1000
        }
      },
      "source": [
        "sample1"
      ],
      "execution_count": 0,
      "outputs": [
        {
          "output_type": "execute_result",
          "data": {
            "text/plain": [
              "array([183.02133943, 183.2108419 , 177.05432924, 180.34270649,\n",
              "       176.29708689, 182.7622925 , 174.93649483, 186.7291875 ,\n",
              "       182.16805173, 176.32326507, 181.39942457, 185.12363596,\n",
              "       172.9176919 , 180.65519246, 178.65866927, 178.81917379,\n",
              "       179.96810107, 183.38630546, 181.41606741, 183.50497983,\n",
              "       187.97501149, 175.30677254, 179.97201656, 183.85353975,\n",
              "       175.55526082, 179.8332235 , 182.10844102, 184.29731074,\n",
              "       179.40282938, 183.07340314, 177.81613677, 178.43351692,\n",
              "       183.09451208, 188.53669317, 181.0801814 , 185.16372687,\n",
              "       173.86411038, 179.29034175, 188.32783432, 179.5285762 ,\n",
              "       178.07398433, 174.2002262 , 176.49840527, 189.42468485,\n",
              "       180.13638171, 183.42383577, 170.9891513 , 166.93494988,\n",
              "       177.46853759, 182.5160751 , 179.11197833, 176.42784201,\n",
              "       189.52031245, 173.86727442, 179.48847224, 181.39714699,\n",
              "       179.01557329, 184.52534767, 180.06038963, 177.0721349 ,\n",
              "       192.40840385, 179.34122458, 179.40884616, 187.10797639,\n",
              "       177.85398566, 181.26439208, 181.0341685 , 196.29131343,\n",
              "       178.48537958, 180.98042484, 176.26558857, 183.54678274,\n",
              "       177.26853208, 174.16144977, 188.33215157, 170.51756747,\n",
              "       178.7240402 , 179.9419483 , 176.30084634, 176.20489057,\n",
              "       182.00697712, 181.77527519, 169.89440279, 175.34103134,\n",
              "       180.52810438, 182.58154889, 188.23066337, 177.53922392,\n",
              "       176.42471353, 177.41447257, 179.16762715, 177.02721294,\n",
              "       174.29745229, 179.25049313, 176.7487636 , 179.66370465,\n",
              "       180.56780616, 185.12080258, 180.18645094, 188.61552432,\n",
              "       184.71456008, 173.08108937, 180.62077368, 177.52204731,\n",
              "       182.76078121, 179.16008927, 188.39724455, 179.75827035,\n",
              "       187.06340864, 183.04704253, 183.84266759, 182.07125158,\n",
              "       174.59232865, 174.13270371, 179.84748651, 176.01227649,\n",
              "       174.82144179, 173.95290645, 187.87709932, 181.40671191,\n",
              "       182.44233378, 187.38125014, 181.12039335, 178.39060502,\n",
              "       175.32751377, 181.86917323, 178.02958283, 186.71248753,\n",
              "       182.40264593, 169.47179011, 190.81715882, 184.41336543,\n",
              "       175.16345886, 175.19029856, 191.16993244, 172.96206252,\n",
              "       170.182634  , 182.57215596, 172.60573427, 178.5375583 ,\n",
              "       182.72200877, 180.69053108, 177.14629205, 182.13811422,\n",
              "       177.48448678, 182.95311222, 187.29250083, 179.43012805,\n",
              "       185.92575957, 182.15616721, 184.7329084 , 183.03187147,\n",
              "       183.0225681 , 180.50819823, 180.03459525, 171.20944417,\n",
              "       177.30319303, 180.71979881, 182.90751709, 174.23946319,\n",
              "       175.00461967, 181.02695616, 179.65978745, 183.80428426,\n",
              "       182.09636931, 178.63093474, 184.49054984, 177.69033585,\n",
              "       181.66744672, 172.56115129, 181.20447839, 185.11416284,\n",
              "       184.97289161, 174.42015618, 177.66209744, 185.92402032,\n",
              "       180.18305818, 180.4267236 , 188.67269398, 177.83073596,\n",
              "       179.4460729 , 166.38080534, 174.34622897, 188.01864526,\n",
              "       177.90190569, 179.00584442, 177.252155  , 182.62304081,\n",
              "       182.002586  , 182.55563731, 173.59439466, 185.31509275,\n",
              "       176.74566036, 189.35746619, 182.77850107, 179.14694161,\n",
              "       188.75975715, 173.46344447, 177.98547017, 179.05327091,\n",
              "       185.12230677, 172.68474629, 175.30590997, 182.66998876,\n",
              "       180.23694598, 178.41981107, 187.30066228, 172.3829514 ,\n",
              "       180.27841291, 180.57984871, 186.42665092, 178.40883273,\n",
              "       178.98946252, 180.08047946, 171.80884783, 182.40630797,\n",
              "       187.0058768 , 184.7098339 , 189.61464159, 182.11217129,\n",
              "       193.13742732, 181.08427809, 170.26285605, 188.55522094,\n",
              "       180.53118091, 173.38267658, 177.93981391, 177.6025586 ,\n",
              "       179.47770397, 178.72339904, 166.28956679, 177.1795753 ,\n",
              "       174.89624799, 174.62007894, 181.68828504, 175.72103851,\n",
              "       181.05542366, 173.35783978, 178.04985102, 172.54488388,\n",
              "       189.482786  , 187.52201118, 181.8996364 , 175.975739  ,\n",
              "       182.20826583, 180.16847008, 178.03080752, 183.79580403,\n",
              "       184.71068727, 175.21065519, 181.60591467, 178.22798209,\n",
              "       176.75730257, 177.72790166, 175.50889324, 174.10373685,\n",
              "       178.8182882 , 172.03848039, 170.46075191, 167.97523726,\n",
              "       176.12373713, 180.35224827, 187.55771273, 189.93200038,\n",
              "       175.37998761, 174.92898708, 174.27466734, 188.32232389,\n",
              "       175.65044017, 175.59484024, 179.46654051, 174.961508  ,\n",
              "       180.44704266, 177.41682848, 180.29759825, 175.50262794,\n",
              "       176.90177965, 179.13660939, 179.36262586, 173.03505937,\n",
              "       179.89964147, 188.32236428, 179.26981965, 180.84571045,\n",
              "       186.42655394, 185.03535165, 175.88375835, 174.85661787,\n",
              "       182.08662102, 183.19685294, 176.65047909, 189.41777742,\n",
              "       179.722459  , 184.5124515 , 186.56114563, 180.70108702,\n",
              "       183.3331323 , 178.36379884, 171.03366865, 182.53893259,\n",
              "       180.33647407, 180.26152297, 183.34001751, 181.62212494,\n",
              "       178.79975831, 177.30577986, 188.43691163, 184.38410106,\n",
              "       190.84167167, 182.38924486, 182.70521621, 185.26448484,\n",
              "       181.35713865, 187.56098995, 185.02449386, 184.34135631,\n",
              "       180.64638418, 172.67096444, 183.79677178, 177.76926913,\n",
              "       183.48590709, 183.56258786, 180.88904756, 177.64722862,\n",
              "       173.68409698, 172.12870945, 177.83979358, 176.79110626,\n",
              "       175.44119816, 181.01043643, 180.16655496, 173.61967496,\n",
              "       187.50562246, 186.70317425, 185.29812728, 178.68147036,\n",
              "       177.04469769, 176.05634593, 184.10229401, 175.74144035,\n",
              "       183.05001709, 179.03042487, 191.09773593, 170.57067   ,\n",
              "       189.22519286, 182.74440694, 183.64940421, 179.15123974,\n",
              "       182.72814947, 178.23686515, 185.26485518, 182.4045387 ,\n",
              "       181.26558529, 186.96369189, 178.23386255, 177.41317699,\n",
              "       182.6616495 , 184.68759096, 178.66759292, 170.13230767,\n",
              "       182.75797559, 179.14172695, 181.39774802, 167.85216723,\n",
              "       186.36300226, 179.8510959 , 183.84998006, 174.84995642,\n",
              "       177.21594375, 185.33563294, 179.45823433, 179.00970907,\n",
              "       177.17084805, 185.11373636, 174.84683717, 174.17910584,\n",
              "       169.67969967, 188.59600716, 181.23561158, 177.4495387 ,\n",
              "       175.57890161, 184.1255167 , 187.30261801, 181.32548883,\n",
              "       172.68436662, 182.74748084, 183.18064494, 184.07910375,\n",
              "       179.63611786, 180.43776732, 168.93327214, 179.61842254,\n",
              "       184.90445781, 180.847401  , 178.38175037, 189.78081361,\n",
              "       185.61200444, 180.23852318, 172.66935242, 184.85308503,\n",
              "       181.06453716, 186.1308651 , 185.73523159, 174.4641755 ,\n",
              "       175.75716488, 184.59756999, 176.97982232, 177.47248278,\n",
              "       180.41870963, 179.31968336, 188.58293806, 174.01792342,\n",
              "       190.9460938 , 175.52814236, 186.14336056, 172.00240003,\n",
              "       180.76828564, 180.18612066, 181.57892482, 181.40364859,\n",
              "       171.94327119, 177.60194082, 178.06690336, 190.10697904,\n",
              "       169.96637969, 180.36554745, 180.82536579, 179.33665739,\n",
              "       188.2051203 , 167.8354213 , 177.78136875, 179.32442071,\n",
              "       181.0851542 , 182.40352186, 180.57483269, 187.95530444,\n",
              "       179.50031526, 183.55526175, 179.02681552, 175.83523308,\n",
              "       177.21996618, 177.36171107, 173.83164024, 179.05422213,\n",
              "       174.43185587, 177.32364476, 177.12946586, 173.88170745,\n",
              "       175.5887284 , 186.68942149, 182.65708443, 181.49776253,\n",
              "       176.4908825 , 181.96789711, 182.69126114, 179.16994992,\n",
              "       177.98392105, 181.02932871, 179.56035338, 178.61389587,\n",
              "       179.66598259, 177.86176423, 170.81637394, 184.56030844,\n",
              "       185.88422603, 175.78440237, 176.16576492, 176.06408705,\n",
              "       176.03579607, 187.35300559, 181.21241731, 180.77616199,\n",
              "       179.94511715, 176.20564487, 181.60591523, 178.01242284,\n",
              "       175.605681  , 187.63644602, 180.9504445 , 187.1081854 ,\n",
              "       180.32506232, 171.11312459, 184.51983331, 182.9520124 ,\n",
              "       177.20203566, 178.55124452, 180.59161292, 181.40810042,\n",
              "       179.05592446, 182.73489974, 174.91301198, 181.54402706,\n",
              "       180.95547262, 178.04872094, 173.78724426, 175.15113017,\n",
              "       177.64642623, 185.5444279 , 165.006673  , 177.916797  ,\n",
              "       189.07337654, 178.30353446, 171.94052203, 179.41047455,\n",
              "       185.3964543 , 183.81802076, 182.23818293, 182.78510232,\n",
              "       187.01510138, 183.2125609 , 171.79019209, 178.98704598,\n",
              "       193.05387879, 194.12606743, 178.2833714 , 174.38455608,\n",
              "       178.11615721, 172.23006565, 179.86407934, 180.82895921,\n",
              "       176.71189792, 173.1206454 , 184.57279277, 181.71588224,\n",
              "       176.22788611, 182.88099156, 176.23249231, 188.16696727,\n",
              "       184.68881615, 183.71776827, 178.71741933, 179.84628033,\n",
              "       189.9434165 , 179.62323649, 184.7753184 , 176.20500635,\n",
              "       183.39067367, 178.60589702, 177.06607319, 177.71713271,\n",
              "       180.19225589, 174.99150796, 180.51300488, 185.18663658,\n",
              "       178.14941158, 183.50046302, 173.46646461, 173.02291961,\n",
              "       176.62191011, 185.67461313, 183.58197243, 181.99383651,\n",
              "       175.78100855, 176.07088541, 187.52363568, 176.8093289 ,\n",
              "       186.11848913, 178.44229416, 176.83302783, 179.67186285,\n",
              "       184.01167689, 177.45837326, 181.85353291, 173.89373046,\n",
              "       178.81990586, 176.95169325, 179.68942667, 183.96241799,\n",
              "       181.23637171, 172.64194818, 176.74848491, 169.38077262,\n",
              "       185.10464324, 185.66128422, 185.69271586, 179.28560554,\n",
              "       181.51550236, 174.10288233, 170.01966701, 184.49618039,\n",
              "       176.28700688, 178.86411045, 182.57200542, 181.33353091,\n",
              "       182.42696265, 175.31219138, 180.05840535, 178.96919902,\n",
              "       180.02938463, 168.16547038, 175.25935003, 169.57747664,\n",
              "       175.01021486, 182.98066519, 188.73294766, 168.91148806,\n",
              "       185.10504971, 180.66667927, 180.28090548, 170.29363416,\n",
              "       172.46205032, 175.85694606, 193.16154304, 181.28917014,\n",
              "       185.07668414, 172.32373874, 179.81822232, 177.17087311,\n",
              "       177.45408085, 172.40466777, 180.47353397, 164.58390658,\n",
              "       185.25831619, 179.59853258, 179.06738325, 172.99801225,\n",
              "       191.70448295, 178.03688604, 182.39689002, 168.26706259,\n",
              "       181.14338132, 165.56977714, 181.93110443, 176.57536535,\n",
              "       181.79553962, 181.36257641, 182.66609692, 182.87607763,\n",
              "       178.3736521 , 180.6448493 , 183.85300952, 172.31329827,\n",
              "       183.90061727, 175.94894892, 173.54615964, 185.83064686,\n",
              "       178.10194679, 177.93992167, 183.46612183, 177.34076387,\n",
              "       187.26476182, 183.24207212, 181.97332096, 175.48996847,\n",
              "       178.78363533, 174.24650633, 185.60008986, 186.37986645,\n",
              "       174.87584957, 170.92301439, 169.96237296, 187.17924607,\n",
              "       178.49866132, 182.14196053, 170.99199981, 186.38081954,\n",
              "       195.04168244, 176.21122927, 180.9877297 , 185.59383183,\n",
              "       182.89285214, 174.02872788, 177.58193087, 181.45720196,\n",
              "       179.70904287, 173.69121906, 182.28995758, 179.79425941,\n",
              "       183.42355678, 177.38120682, 190.94766944, 178.27631934,\n",
              "       177.54491688, 178.76744917, 175.40078503, 185.6616758 ,\n",
              "       185.99648658, 175.88643509, 189.42717203, 172.27542628,\n",
              "       182.71845303, 182.05287432, 181.17142596, 191.19028904,\n",
              "       175.61812139, 178.69078246, 178.43819774, 185.36740503,\n",
              "       181.53639382, 182.99181582, 185.43774545, 181.27520935,\n",
              "       179.09234   , 185.38758654, 181.27254106, 179.74441288,\n",
              "       172.67421101, 182.77837099, 181.6679945 , 183.96574506,\n",
              "       178.92997453, 173.13925021, 182.82491536, 177.39459011,\n",
              "       183.16192746, 180.97182655, 173.92075889, 177.16419213,\n",
              "       173.97535454, 181.50137582, 181.03358077, 182.84379204,\n",
              "       184.2302023 , 187.27101979, 188.41261847, 175.81291125,\n",
              "       188.59351409, 189.97061973, 178.96311992, 179.77735518,\n",
              "       180.30658989, 180.17069266, 178.55552861, 177.87893298,\n",
              "       177.55242061, 189.37111379, 178.79552314, 181.699332  ,\n",
              "       178.35224475, 178.73492926, 178.42701026, 180.68881727,\n",
              "       182.20273775, 177.15954355, 180.71842214, 186.08437229,\n",
              "       181.30555213, 182.91048   , 167.65342136, 186.9762367 ,\n",
              "       177.9181277 , 170.09201132, 172.44658214, 177.3642256 ,\n",
              "       182.20420168, 178.22559774, 175.16765799, 184.95841761,\n",
              "       181.84772957, 184.18237106, 186.16448672, 176.03632779,\n",
              "       179.2082539 , 174.38545991, 182.43886835, 175.0815506 ,\n",
              "       173.82611768, 184.26649365, 175.63720541, 177.39938715,\n",
              "       173.7261971 , 186.96277636, 179.35374782, 182.32714499,\n",
              "       184.50540821, 181.09799495, 179.99300735, 178.52706909,\n",
              "       173.90415427, 179.49263617, 189.03850292, 179.56404638,\n",
              "       185.57764531, 181.90143623, 179.64853715, 182.39292183,\n",
              "       172.19913157, 181.1017449 , 182.85870489, 186.61891995,\n",
              "       169.8086435 , 176.74343895, 169.52550585, 181.01138866,\n",
              "       185.35525827, 180.84778983, 182.93570192, 175.64753009,\n",
              "       178.22224855, 173.43465773, 190.45422231, 180.14046352,\n",
              "       182.30890943, 178.35075281, 179.74008346, 181.76891181,\n",
              "       184.80078695, 179.48647152, 183.29602946, 177.6251474 ,\n",
              "       181.11610105, 177.00358891, 171.14624056, 187.53501477,\n",
              "       180.5548894 , 179.32429543, 179.42262738, 187.43249534,\n",
              "       181.35434015, 183.18967602, 180.43610144, 174.12543394,\n",
              "       171.05632547, 178.09086176, 184.01628196, 171.1482936 ,\n",
              "       184.71565992, 180.88460867, 190.32621776, 179.94445137,\n",
              "       177.22145614, 168.38399154, 188.87008791, 176.72013156,\n",
              "       181.55733317, 184.73762804, 181.18583349, 175.57431648,\n",
              "       185.92744811, 181.28532506, 180.1336472 , 173.68861354,\n",
              "       182.51858816, 179.64068387, 177.02151536, 179.79889576,\n",
              "       175.03036159, 182.56556742, 179.14386029, 185.65315877,\n",
              "       177.41179768, 173.70283589, 178.4205689 , 178.41900749,\n",
              "       182.68921439, 182.47925786, 181.18502794, 186.47896517,\n",
              "       174.58681751, 180.16912558, 183.81264415, 175.89805456,\n",
              "       188.51540641, 181.13776836, 177.02492212, 184.88950524,\n",
              "       176.78198574, 183.75783485, 176.04441793, 175.87303065,\n",
              "       176.73987325, 177.18939831, 176.43381615, 171.66162946,\n",
              "       171.66034733, 181.94248486, 188.65351664, 177.03197559,\n",
              "       183.40052008, 181.34497342, 173.79931739, 173.37298532,\n",
              "       176.94271752, 176.06842112, 171.19897265, 185.26531992,\n",
              "       182.16632695, 177.66405396, 179.96036593, 183.4770128 ,\n",
              "       178.76976063, 179.77642057, 174.17569676, 181.59414047,\n",
              "       170.35850236, 184.31592959, 172.91528095, 176.32878808,\n",
              "       188.93899341, 176.25980519, 178.94762493, 180.56802231,\n",
              "       177.10211748, 180.27192992, 182.97877896, 186.17692259,\n",
              "       178.81887158, 187.77095282, 183.10143006, 187.76133793,\n",
              "       184.99221296, 181.63657375, 179.30312452, 176.08888383,\n",
              "       177.01927679, 183.81289211, 170.54691225, 178.1321263 ,\n",
              "       185.64720735, 186.69326463, 171.90130786, 190.78881249,\n",
              "       184.78020632, 173.37744839, 171.1777211 , 180.7474104 ,\n",
              "       178.31537987, 177.79352905, 182.31178999, 182.7355092 ,\n",
              "       181.48292833, 181.42464188, 181.99447208, 181.98985364,\n",
              "       177.24248169, 178.5431323 , 188.27237838, 180.58571194,\n",
              "       181.59830853, 183.66288318, 175.52399729, 175.19407741,\n",
              "       180.39942615, 179.01183994, 189.21673384, 176.59396401,\n",
              "       184.26636899, 174.45490068, 171.98488421, 173.23883676,\n",
              "       184.46031134, 175.70792554, 183.00727559, 189.02617394,\n",
              "       182.79916544, 184.02669928, 168.79494316, 181.58041387,\n",
              "       179.58310979, 184.76334357, 181.49040717, 183.82079179,\n",
              "       178.93312589, 188.04483456, 178.63644129, 179.53109744,\n",
              "       190.3340791 , 179.83839936, 172.57337709, 188.23271758,\n",
              "       178.07966465, 172.10114174, 178.57379206, 186.95929845,\n",
              "       174.33542142, 187.91708088, 171.47356725, 176.40368506,\n",
              "       186.58729926, 178.01144859, 173.54267239, 178.44732526,\n",
              "       177.32664768, 176.85398095, 183.27565084, 169.0613216 ,\n",
              "       186.88890698, 181.48559701, 179.74706358, 171.15674522,\n",
              "       182.28829359, 183.80549216, 189.46992598, 175.25757728,\n",
              "       178.8894505 , 188.17518532, 184.95257474, 177.32568487,\n",
              "       185.4817313 , 171.89658494, 178.60300456, 172.1997643 ,\n",
              "       174.23699627, 174.94440727, 177.66661772, 179.14817079,\n",
              "       175.29689397, 177.46544767, 181.67021365, 178.36756234])"
            ]
          },
          "metadata": {
            "tags": []
          },
          "execution_count": 19
        }
      ]
    },
    {
      "cell_type": "code",
      "metadata": {
        "id": "AWAD3IduABOi",
        "colab_type": "code",
        "outputId": "6d2fb00f-d7f1-4623-90e1-807c3f52e324",
        "colab": {
          "base_uri": "https://localhost:8080/",
          "height": 1000
        }
      },
      "source": [
        "sample2"
      ],
      "execution_count": 0,
      "outputs": [
        {
          "output_type": "execute_result",
          "data": {
            "text/plain": [
              "array([182.33092251, 181.80721592, 179.10587144, 176.38582311,\n",
              "       176.23557015, 174.59095004, 184.75111908, 182.74202834,\n",
              "       178.29453041, 179.30769091, 175.3088192 , 179.00463486,\n",
              "       182.52608548, 177.71994916, 174.51000356, 182.92868859,\n",
              "       177.02881916, 177.37508633, 172.45758165, 179.83998885,\n",
              "       174.98711921, 173.95486423, 169.39377267, 175.32402333,\n",
              "       185.71041651, 177.90775745, 171.8231323 , 181.69767631,\n",
              "       169.89864843, 184.46528277, 177.45071525, 180.2143412 ,\n",
              "       181.93124488, 185.03414931, 176.06737055, 173.94847514,\n",
              "       175.59826805, 180.20506189, 181.42782949, 179.90425066,\n",
              "       180.97436526, 182.02915453, 165.7692192 , 174.31996262,\n",
              "       183.76660305, 185.02778104, 179.04040631, 187.75089051,\n",
              "       176.72492287, 173.9447877 , 185.02393623, 187.27394708,\n",
              "       180.96689265, 184.55671576, 178.70738587, 180.52902046,\n",
              "       180.78267746, 178.0048717 , 176.04296306, 181.28698353,\n",
              "       182.84434287, 182.51093623, 170.06698432, 178.04161268,\n",
              "       175.04411349, 175.57786688, 170.86416905, 178.83952764,\n",
              "       179.18992948, 181.95679374, 178.97694782, 177.15719214,\n",
              "       185.93941889, 181.95426046, 175.90042071, 180.02537781,\n",
              "       182.56843731, 181.17988779, 177.09894916, 184.3612327 ,\n",
              "       184.47082691, 175.82730868, 184.40592106, 176.65843784,\n",
              "       176.82750825, 181.08829553, 178.69544482, 181.08364887,\n",
              "       177.73114398, 174.19669228, 181.15424229, 180.68620972,\n",
              "       171.61893508, 183.36125208, 195.55253621, 178.76493202,\n",
              "       176.36435703, 173.89042219, 181.17301686, 180.30980318,\n",
              "       180.15800338, 177.46259243, 184.67480833, 172.17919623,\n",
              "       174.69876415, 175.9835688 , 177.04594022, 179.82220251,\n",
              "       181.62436267, 184.3896472 , 185.80626517, 178.2930719 ,\n",
              "       180.86883811, 172.51206896, 173.18023953, 184.6352746 ,\n",
              "       174.4129106 , 174.01813926, 170.24851937, 184.60645755,\n",
              "       183.57507049, 181.20967758, 180.41167292, 176.81225004,\n",
              "       176.67155373, 181.39805938, 181.8847772 , 174.78608903,\n",
              "       179.98445351, 173.40236216, 177.57370622, 180.90137931,\n",
              "       177.797203  , 175.05532321, 185.78599756, 177.71430778,\n",
              "       175.24596592, 176.04550033, 174.89640322, 174.52239617,\n",
              "       177.11956577, 180.58593921, 183.19500104, 186.6366547 ,\n",
              "       174.90810674, 177.2001651 , 181.91746498, 172.43934031,\n",
              "       184.1860293 , 187.39457411, 185.22543172, 175.74925761,\n",
              "       177.9452742 , 175.14347533, 175.3059603 , 180.88317071,\n",
              "       174.49052293, 178.36304892, 179.29116086, 176.40334102,\n",
              "       180.82849745, 177.56895351, 179.61490258, 183.29507233,\n",
              "       178.16218967, 176.54752307, 176.27327283, 177.51706356,\n",
              "       182.71931598, 173.02400287, 184.57958861, 182.78501186,\n",
              "       175.33437879, 183.41363959, 173.92392991, 180.43766175,\n",
              "       177.2614385 , 183.43079005, 173.1031929 , 179.44875996,\n",
              "       171.55665094, 181.28270934, 178.20765043, 173.19466555,\n",
              "       183.59298758, 176.84321964, 179.5491004 , 184.96165899,\n",
              "       173.48237307, 185.89935642, 180.85762299, 177.26473354,\n",
              "       173.94231564, 186.32548821, 181.69253123, 183.0224751 ,\n",
              "       173.70121531, 181.38151101, 182.84228469, 182.96352001,\n",
              "       184.34695007, 170.27286945, 172.97002433, 177.11505568,\n",
              "       177.62952316, 187.09826731, 181.38510326, 178.63816321,\n",
              "       177.29022061, 174.53065332, 171.09524369, 177.63546466,\n",
              "       177.9382928 , 181.08511153, 173.44040834, 183.4712289 ,\n",
              "       185.69318111, 176.56717848, 180.38401963, 183.15663767,\n",
              "       178.46311755, 175.78177654, 178.42509335, 179.10411809,\n",
              "       176.34232527, 182.96742736, 176.14493445, 188.66614303,\n",
              "       173.0286086 , 179.16630075, 184.69950419, 180.18911397,\n",
              "       176.96097384, 179.36807605, 187.36451803, 180.30589519,\n",
              "       173.78182032, 184.96343145, 175.17196012, 182.1321407 ,\n",
              "       166.57000414, 178.68260113, 176.89430084, 176.10815465,\n",
              "       178.92557616, 182.75872878, 174.98099556, 172.25491069,\n",
              "       170.71805296, 172.73277564, 182.4890146 , 179.03479651,\n",
              "       174.63139037, 175.90146459, 182.78062746, 176.75321191,\n",
              "       176.58186309, 179.1429244 , 173.89944786, 176.58121948,\n",
              "       175.82284748, 173.31892293, 171.76775856, 179.01350704,\n",
              "       179.35721684, 172.34602026, 177.35606227, 177.42393555,\n",
              "       180.19694478, 180.68256859, 177.71046533, 185.61595037,\n",
              "       170.47265553, 176.53043914, 176.1551655 , 179.86418505,\n",
              "       169.81680753, 179.7968271 , 185.87548555, 172.70799263,\n",
              "       179.10590938, 176.31116804, 179.87163648, 176.70949348,\n",
              "       178.38949859, 177.74675346, 178.89552   , 180.99113161,\n",
              "       173.78933589, 175.85145295, 178.83127256, 173.04772561,\n",
              "       182.58658396, 180.45518632, 173.55317673, 179.12563124,\n",
              "       176.43015767, 184.36970661, 183.18687827, 183.16958036,\n",
              "       182.80559608, 179.77734682, 177.7884686 , 173.87026122,\n",
              "       176.4916042 , 174.34209982, 176.09350345, 176.06114844,\n",
              "       179.29674223, 177.9498234 , 171.96960008, 182.0123502 ,\n",
              "       176.61958775, 178.05749946, 178.91745532, 178.72291316,\n",
              "       180.64340176, 179.17137745, 187.83760253, 170.5861041 ,\n",
              "       177.49185847, 176.95333394, 176.84209923, 178.33480322,\n",
              "       180.65662792, 173.30574173, 178.48854636, 176.1785513 ,\n",
              "       169.90799436, 181.17809568, 186.31312331, 176.46437709,\n",
              "       176.59857716, 176.14432681, 176.4966205 , 177.52600907,\n",
              "       184.13024468, 182.7889045 , 176.64608884, 179.36146316,\n",
              "       182.07480031, 181.1147417 , 179.09484291, 175.52561031,\n",
              "       176.20738163, 179.88954947, 178.78616758, 177.17212532,\n",
              "       180.10213317, 175.05179718, 189.32457944, 186.88148757,\n",
              "       182.52107264, 170.35998045, 181.95932316, 179.26646249,\n",
              "       175.4428994 , 180.05066461, 172.04777913, 177.64907466,\n",
              "       181.85856187, 185.94630658, 178.0016648 , 178.63250138,\n",
              "       184.38280158, 177.08105021, 177.29756677, 180.87881069,\n",
              "       175.73237193, 170.71339215, 178.03791115, 186.62035446,\n",
              "       185.05368025, 174.65706315, 184.03203037, 171.91797631,\n",
              "       175.88073692, 186.88302594, 183.01698223, 179.32516765,\n",
              "       183.90888204, 171.67603111, 177.77816434, 179.15237044,\n",
              "       173.69651139, 178.0465107 , 183.62489559, 181.86733224,\n",
              "       178.37682427, 179.77879376, 182.78079241, 179.67512322,\n",
              "       186.36879539, 190.07658741, 183.99414896, 176.79507459,\n",
              "       178.21824914, 182.73797139, 178.3424758 , 176.15630783,\n",
              "       178.82561151, 175.26338714, 174.51537923, 174.64288155,\n",
              "       173.72045948, 182.66062235, 182.04024366, 180.7945249 ,\n",
              "       184.99841515, 177.73197537, 186.25470573, 173.07248018,\n",
              "       178.50949726, 180.51362218, 178.78795475, 170.76142591,\n",
              "       177.87193165, 177.04023725, 177.61131129, 173.87455421,\n",
              "       178.74881411, 179.22327325, 185.47877137, 175.0690402 ,\n",
              "       178.57948376, 177.15695668, 172.41929623, 176.21276454,\n",
              "       183.72354771, 176.20670072, 178.62643732, 178.65161133,\n",
              "       173.19930777, 176.41362468, 179.05547998, 174.87063679,\n",
              "       181.76850101, 172.72144075, 173.2080933 , 181.53116812,\n",
              "       186.04808313, 178.2015705 , 174.74945033, 174.60435622,\n",
              "       187.09943895, 177.55958159, 177.2250686 , 189.34492491,\n",
              "       177.05236179, 179.96534282, 177.03984412, 182.16708562,\n",
              "       178.43525051, 181.61411758, 174.93380653, 178.60835637,\n",
              "       172.06690082, 176.86271288, 180.87026374, 171.80281556,\n",
              "       174.00116663, 183.54611108, 178.80792507, 176.65285792,\n",
              "       179.47065283, 178.91211448, 175.96876545, 179.92480866,\n",
              "       178.66560848, 180.71738244, 177.83138848, 172.13776627,\n",
              "       180.27307147, 176.75961967, 178.1867307 , 180.18579138,\n",
              "       177.60367294, 172.83931472, 178.13467388, 180.69061474,\n",
              "       171.7544537 , 180.79607179, 177.91903612, 172.60193189,\n",
              "       172.33605257, 176.00762715, 174.63465206, 165.94580167,\n",
              "       183.84310214, 167.99470408, 173.92708839, 178.21856105,\n",
              "       167.38712224, 181.42921212, 182.00447824, 181.95018161,\n",
              "       182.64941909, 170.01391777, 174.83630207, 177.12112803,\n",
              "       177.14618155, 175.29011047, 187.81198069, 175.69641502,\n",
              "       181.95606845, 176.86939345, 179.36889536, 178.01820762,\n",
              "       180.65764458, 184.2533353 , 178.13427073, 177.3867824 ,\n",
              "       174.57601812, 173.69295687, 179.24228328, 180.04917152,\n",
              "       178.21176591, 181.71741092, 168.98640661, 177.86143611,\n",
              "       187.10889889, 174.76832953, 175.74101641, 183.10390057,\n",
              "       180.63968545, 170.35001899, 170.99024465, 181.49465623,\n",
              "       178.59507827, 181.87555266, 170.52860426, 177.37041105,\n",
              "       180.97476045, 171.41976989, 178.91008969, 180.25551547,\n",
              "       179.06974679, 179.68846375, 177.02838543, 177.07849862,\n",
              "       178.16732311, 183.45622002, 174.61145185, 175.22272706,\n",
              "       176.61134926, 178.33099353, 180.44337239, 173.73242081,\n",
              "       175.96293507, 174.60368186, 171.44645928, 173.33576617,\n",
              "       182.11854082, 180.66762616, 179.563761  , 175.94244802,\n",
              "       170.68576762, 175.74016984, 177.67850802, 178.06547401,\n",
              "       176.7544395 , 179.60806903, 180.97286352, 180.55750435,\n",
              "       178.43092873, 172.71273544, 183.54849446, 188.53000375,\n",
              "       180.29367164, 178.78410694, 185.07417962, 185.81165701,\n",
              "       179.26999733, 177.287126  , 179.24994104, 183.48673247,\n",
              "       180.90418723, 179.79024169, 179.30048325, 176.14477129,\n",
              "       180.85143061, 182.53395717, 179.23298792, 176.53852595,\n",
              "       178.88837186, 182.92495177, 173.47280879, 180.47363322,\n",
              "       179.90814157, 173.28068598, 185.46918728, 179.33547107,\n",
              "       182.09315176, 177.41793064, 178.79954915, 177.69637067,\n",
              "       191.26007726, 181.84353326, 176.97840271, 178.42959693,\n",
              "       179.54437131, 177.82216775, 176.76506183, 177.44385599,\n",
              "       172.4099584 , 179.67445026, 175.280133  , 170.3730599 ,\n",
              "       181.75323297, 174.72965194, 179.96346509, 176.15139185,\n",
              "       183.27778901, 176.30816576, 176.05721991, 174.99847278,\n",
              "       184.66946065, 176.55775182, 184.73090796, 173.36388967,\n",
              "       182.62540696, 179.11356654, 176.96900786, 181.8463476 ,\n",
              "       174.84815661, 181.0301221 , 175.00245911, 180.37662855,\n",
              "       188.29828171, 182.42219087, 177.69102885, 178.52618632,\n",
              "       178.00580094, 170.978356  , 177.17815839, 180.27879596,\n",
              "       184.3516581 , 175.19823316, 180.45729082, 183.85929512,\n",
              "       170.29837018, 180.12520496, 182.40092641, 183.62994317,\n",
              "       181.18661244, 177.70503606, 179.65064155, 187.20448932,\n",
              "       175.89186644, 177.23428947, 181.69365119, 186.33734607,\n",
              "       188.11699707, 172.02918786, 177.75233181, 184.52629554,\n",
              "       170.45463092, 177.25442665, 176.33261317, 177.86789638,\n",
              "       185.34674583, 174.49462954, 180.92572099, 174.73220452,\n",
              "       169.52165504, 181.88704236, 176.76479486, 176.58601554,\n",
              "       185.50531996, 180.93367514, 173.58740627, 166.40850603,\n",
              "       182.37276609, 179.25935836, 176.80175467, 182.43778031,\n",
              "       174.28386051, 179.08869774, 178.60203176, 178.69979879,\n",
              "       174.61327356, 176.87788925, 179.02208423, 179.95493131,\n",
              "       181.00002121, 176.98683924, 177.62151666, 180.04033756,\n",
              "       176.67767016, 186.11181801, 178.11070478, 175.82768856,\n",
              "       189.97075701, 177.87694852, 174.93657016, 183.80323107,\n",
              "       176.63786291, 182.08825589, 173.34476341, 184.54400512,\n",
              "       187.48054805, 177.24073905, 179.23355883, 169.99688875,\n",
              "       181.1238696 , 171.1274284 , 181.51345892, 174.34542611,\n",
              "       180.21008918, 177.42308122, 180.13297043, 179.07463568,\n",
              "       171.44618173, 186.35828656, 174.83089896, 182.93918805,\n",
              "       185.5665872 , 177.47062076, 176.30216305, 178.12230023,\n",
              "       177.50194   , 176.38760879, 180.69673851, 178.66017351,\n",
              "       175.93875069, 181.58325798, 175.07180339, 182.38443511,\n",
              "       183.04181967, 183.57961599, 185.09835744, 170.46488136,\n",
              "       181.29261961, 184.11185572, 180.90111012, 172.09614755,\n",
              "       179.85780584, 175.20594473, 186.43658004, 182.61578552,\n",
              "       178.16464991, 178.69441148, 177.08823018, 183.2044288 ,\n",
              "       182.89158403, 183.75998952, 179.02663653, 178.76171673,\n",
              "       182.28101197, 179.43584495, 181.41184694, 184.1316886 ,\n",
              "       169.55319676, 185.61600354, 174.77433234, 176.30643353,\n",
              "       182.47253833, 173.17032634, 178.50727613, 180.62416615,\n",
              "       175.78125244, 175.83916521, 177.57783728, 177.31529804,\n",
              "       176.76866917, 177.3699093 , 180.46688608, 182.76852713,\n",
              "       184.77750516, 182.44622237, 183.14417422, 177.17201332,\n",
              "       178.31869054, 186.44157441, 176.20693459, 176.10654285,\n",
              "       176.8495682 , 175.76359889, 183.50481035, 183.69221194,\n",
              "       180.36694748, 179.78584957, 182.53366797, 181.66739695,\n",
              "       176.9651858 , 177.15869822, 175.0055574 , 179.53563403,\n",
              "       184.44247235, 177.56627889, 172.64806091, 177.07558908,\n",
              "       188.59974054, 176.36397361, 181.5082655 , 181.05635799,\n",
              "       179.7244058 , 175.65165797, 169.82464287, 187.15590481])"
            ]
          },
          "metadata": {
            "tags": []
          },
          "execution_count": 20
        }
      ]
    },
    {
      "cell_type": "markdown",
      "metadata": {
        "id": "AS1-nOaIAS_U",
        "colab_type": "text"
      },
      "source": [
        "1) Null Hypothesis: The two burners cook pancakes at the same rate. \n",
        "\n",
        "$\\bar{x}_1 == \\bar{x}_2$\n",
        "\n",
        "2) Alternative Hypothesis: The two burners cook pancakes at different rates. \n",
        "\n",
        "$\\bar{x}_1 \\neq \\bar{x}_2$\n",
        "\n",
        "3) Confidence Level: 95%"
      ]
    },
    {
      "cell_type": "code",
      "metadata": {
        "id": "ZjK4DiZNA079",
        "colab_type": "code",
        "outputId": "7c2ee2c7-bd77-4d85-b9a7-0df88e4cd285",
        "colab": {
          "base_uri": "https://localhost:8080/",
          "height": 34
        }
      },
      "source": [
        "stats.ttest_ind(sample1, sample2)"
      ],
      "execution_count": 0,
      "outputs": [
        {
          "output_type": "execute_result",
          "data": {
            "text/plain": [
              "Ttest_indResult(statistic=7.22432688732972, pvalue=7.406397609470198e-13)"
            ]
          },
          "metadata": {
            "tags": []
          },
          "execution_count": 54
        }
      ]
    },
    {
      "cell_type": "markdown",
      "metadata": {
        "id": "I6bmfPFGBCiX",
        "colab_type": "text"
      },
      "source": [
        "Based on a t-statistic of 7.22, and a p-value of .00000000000074, I reject the null hypothesis that these two burners cook pancakes at the same rate, and suggest the alternative, that they take different mounts of time (on average) to cook pancakes. "
      ]
    },
    {
      "cell_type": "markdown",
      "metadata": {
        "id": "nqPkBMiN5T4z",
        "colab_type": "text"
      },
      "source": [
        "## Lets Practice more 1-sample and 2-sample T-tests\n",
        "\n",
        "Using the dataset that you will be using on your assignment"
      ]
    },
    {
      "cell_type": "code",
      "metadata": {
        "id": "LSJAoKtm5pQO",
        "colab_type": "code",
        "outputId": "2a9e5371-75df-42f9-bf40-6b32d4e16199",
        "colab": {
          "base_uri": "https://localhost:8080/",
          "height": 212
        }
      },
      "source": [
        "# Grab the file from UCI:\n",
        "!wget https://archive.ics.uci.edu/ml/machine-learning-databases/voting-records/house-votes-84.data"
      ],
      "execution_count": 0,
      "outputs": [
        {
          "output_type": "stream",
          "text": [
            "--2020-06-08 21:12:26--  https://archive.ics.uci.edu/ml/machine-learning-databases/voting-records/house-votes-84.data\n",
            "Resolving archive.ics.uci.edu (archive.ics.uci.edu)... 128.195.10.252\n",
            "Connecting to archive.ics.uci.edu (archive.ics.uci.edu)|128.195.10.252|:443... connected.\n",
            "HTTP request sent, awaiting response... 200 OK\n",
            "Length: 18171 (18K) [application/x-httpd-php]\n",
            "Saving to: ‘house-votes-84.data’\n",
            "\n",
            "house-votes-84.data 100%[===================>]  17.75K  --.-KB/s    in 0.1s    \n",
            "\n",
            "2020-06-08 21:12:27 (137 KB/s) - ‘house-votes-84.data’ saved [18171/18171]\n",
            "\n"
          ],
          "name": "stdout"
        }
      ]
    },
    {
      "cell_type": "code",
      "metadata": {
        "id": "s2FODbPXC0n2",
        "colab_type": "code",
        "outputId": "4cc5f0c9-b50c-4e2e-bce5-690db1237fad",
        "colab": {
          "base_uri": "https://localhost:8080/",
          "height": 248
        }
      },
      "source": [
        "column_headers = ['party','handicapped-infants','water-project',\n",
        "                  'budget','physician-fee-freeze', 'el-salvador-aid',\n",
        "                  'religious-groups','anti-satellite-ban',\n",
        "                  'aid-to-contras','mx-missile','immigration',\n",
        "                  'synfuels', 'education', 'right-to-sue','crime','duty-free',\n",
        "                  'south-africa']\n",
        "\n",
        "df = pd.read_csv('house-votes-84.data', names=column_headers)\n",
        "\n",
        "print(df.shape)\n",
        "df.head()"
      ],
      "execution_count": 0,
      "outputs": [
        {
          "output_type": "stream",
          "text": [
            "(435, 17)\n"
          ],
          "name": "stdout"
        },
        {
          "output_type": "execute_result",
          "data": {
            "text/html": [
              "<div>\n",
              "<style scoped>\n",
              "    .dataframe tbody tr th:only-of-type {\n",
              "        vertical-align: middle;\n",
              "    }\n",
              "\n",
              "    .dataframe tbody tr th {\n",
              "        vertical-align: top;\n",
              "    }\n",
              "\n",
              "    .dataframe thead th {\n",
              "        text-align: right;\n",
              "    }\n",
              "</style>\n",
              "<table border=\"1\" class=\"dataframe\">\n",
              "  <thead>\n",
              "    <tr style=\"text-align: right;\">\n",
              "      <th></th>\n",
              "      <th>party</th>\n",
              "      <th>handicapped-infants</th>\n",
              "      <th>water-project</th>\n",
              "      <th>budget</th>\n",
              "      <th>physician-fee-freeze</th>\n",
              "      <th>el-salvador-aid</th>\n",
              "      <th>religious-groups</th>\n",
              "      <th>anti-satellite-ban</th>\n",
              "      <th>aid-to-contras</th>\n",
              "      <th>mx-missile</th>\n",
              "      <th>immigration</th>\n",
              "      <th>synfuels</th>\n",
              "      <th>education</th>\n",
              "      <th>right-to-sue</th>\n",
              "      <th>crime</th>\n",
              "      <th>duty-free</th>\n",
              "      <th>south-africa</th>\n",
              "    </tr>\n",
              "  </thead>\n",
              "  <tbody>\n",
              "    <tr>\n",
              "      <th>0</th>\n",
              "      <td>republican</td>\n",
              "      <td>n</td>\n",
              "      <td>y</td>\n",
              "      <td>n</td>\n",
              "      <td>y</td>\n",
              "      <td>y</td>\n",
              "      <td>y</td>\n",
              "      <td>n</td>\n",
              "      <td>n</td>\n",
              "      <td>n</td>\n",
              "      <td>y</td>\n",
              "      <td>?</td>\n",
              "      <td>y</td>\n",
              "      <td>y</td>\n",
              "      <td>y</td>\n",
              "      <td>n</td>\n",
              "      <td>y</td>\n",
              "    </tr>\n",
              "    <tr>\n",
              "      <th>1</th>\n",
              "      <td>republican</td>\n",
              "      <td>n</td>\n",
              "      <td>y</td>\n",
              "      <td>n</td>\n",
              "      <td>y</td>\n",
              "      <td>y</td>\n",
              "      <td>y</td>\n",
              "      <td>n</td>\n",
              "      <td>n</td>\n",
              "      <td>n</td>\n",
              "      <td>n</td>\n",
              "      <td>n</td>\n",
              "      <td>y</td>\n",
              "      <td>y</td>\n",
              "      <td>y</td>\n",
              "      <td>n</td>\n",
              "      <td>?</td>\n",
              "    </tr>\n",
              "    <tr>\n",
              "      <th>2</th>\n",
              "      <td>democrat</td>\n",
              "      <td>?</td>\n",
              "      <td>y</td>\n",
              "      <td>y</td>\n",
              "      <td>?</td>\n",
              "      <td>y</td>\n",
              "      <td>y</td>\n",
              "      <td>n</td>\n",
              "      <td>n</td>\n",
              "      <td>n</td>\n",
              "      <td>n</td>\n",
              "      <td>y</td>\n",
              "      <td>n</td>\n",
              "      <td>y</td>\n",
              "      <td>y</td>\n",
              "      <td>n</td>\n",
              "      <td>n</td>\n",
              "    </tr>\n",
              "    <tr>\n",
              "      <th>3</th>\n",
              "      <td>democrat</td>\n",
              "      <td>n</td>\n",
              "      <td>y</td>\n",
              "      <td>y</td>\n",
              "      <td>n</td>\n",
              "      <td>?</td>\n",
              "      <td>y</td>\n",
              "      <td>n</td>\n",
              "      <td>n</td>\n",
              "      <td>n</td>\n",
              "      <td>n</td>\n",
              "      <td>y</td>\n",
              "      <td>n</td>\n",
              "      <td>y</td>\n",
              "      <td>n</td>\n",
              "      <td>n</td>\n",
              "      <td>y</td>\n",
              "    </tr>\n",
              "    <tr>\n",
              "      <th>4</th>\n",
              "      <td>democrat</td>\n",
              "      <td>y</td>\n",
              "      <td>y</td>\n",
              "      <td>y</td>\n",
              "      <td>n</td>\n",
              "      <td>y</td>\n",
              "      <td>y</td>\n",
              "      <td>n</td>\n",
              "      <td>n</td>\n",
              "      <td>n</td>\n",
              "      <td>n</td>\n",
              "      <td>y</td>\n",
              "      <td>?</td>\n",
              "      <td>y</td>\n",
              "      <td>y</td>\n",
              "      <td>y</td>\n",
              "      <td>y</td>\n",
              "    </tr>\n",
              "  </tbody>\n",
              "</table>\n",
              "</div>"
            ],
            "text/plain": [
              "        party handicapped-infants water-project  ... crime duty-free south-africa\n",
              "0  republican                   n             y  ...     y         n            y\n",
              "1  republican                   n             y  ...     y         n            ?\n",
              "2    democrat                   ?             y  ...     y         n            n\n",
              "3    democrat                   n             y  ...     n         n            y\n",
              "4    democrat                   y             y  ...     y         y            y\n",
              "\n",
              "[5 rows x 17 columns]"
            ]
          },
          "metadata": {
            "tags": []
          },
          "execution_count": 22
        }
      ]
    },
    {
      "cell_type": "code",
      "metadata": {
        "id": "vwojNIGWDist",
        "colab_type": "code",
        "outputId": "85eeeaf2-c272-4f58-dde4-b9dc8de250cf",
        "colab": {
          "base_uri": "https://localhost:8080/",
          "height": 231
        }
      },
      "source": [
        "# Replacing Nan with 0.5 can put a weight on number of actual votes which is not the case\n",
        "df = df.replace({'y': 1, 'n': 0, '?':np.NaN})\n",
        "\n",
        "df.head()"
      ],
      "execution_count": 0,
      "outputs": [
        {
          "output_type": "execute_result",
          "data": {
            "text/html": [
              "<div>\n",
              "<style scoped>\n",
              "    .dataframe tbody tr th:only-of-type {\n",
              "        vertical-align: middle;\n",
              "    }\n",
              "\n",
              "    .dataframe tbody tr th {\n",
              "        vertical-align: top;\n",
              "    }\n",
              "\n",
              "    .dataframe thead th {\n",
              "        text-align: right;\n",
              "    }\n",
              "</style>\n",
              "<table border=\"1\" class=\"dataframe\">\n",
              "  <thead>\n",
              "    <tr style=\"text-align: right;\">\n",
              "      <th></th>\n",
              "      <th>party</th>\n",
              "      <th>handicapped-infants</th>\n",
              "      <th>water-project</th>\n",
              "      <th>budget</th>\n",
              "      <th>physician-fee-freeze</th>\n",
              "      <th>el-salvador-aid</th>\n",
              "      <th>religious-groups</th>\n",
              "      <th>anti-satellite-ban</th>\n",
              "      <th>aid-to-contras</th>\n",
              "      <th>mx-missile</th>\n",
              "      <th>immigration</th>\n",
              "      <th>synfuels</th>\n",
              "      <th>education</th>\n",
              "      <th>right-to-sue</th>\n",
              "      <th>crime</th>\n",
              "      <th>duty-free</th>\n",
              "      <th>south-africa</th>\n",
              "    </tr>\n",
              "  </thead>\n",
              "  <tbody>\n",
              "    <tr>\n",
              "      <th>0</th>\n",
              "      <td>republican</td>\n",
              "      <td>0.0</td>\n",
              "      <td>1.0</td>\n",
              "      <td>0.0</td>\n",
              "      <td>1.0</td>\n",
              "      <td>1.0</td>\n",
              "      <td>1.0</td>\n",
              "      <td>0.0</td>\n",
              "      <td>0.0</td>\n",
              "      <td>0.0</td>\n",
              "      <td>1.0</td>\n",
              "      <td>NaN</td>\n",
              "      <td>1.0</td>\n",
              "      <td>1.0</td>\n",
              "      <td>1.0</td>\n",
              "      <td>0.0</td>\n",
              "      <td>1.0</td>\n",
              "    </tr>\n",
              "    <tr>\n",
              "      <th>1</th>\n",
              "      <td>republican</td>\n",
              "      <td>0.0</td>\n",
              "      <td>1.0</td>\n",
              "      <td>0.0</td>\n",
              "      <td>1.0</td>\n",
              "      <td>1.0</td>\n",
              "      <td>1.0</td>\n",
              "      <td>0.0</td>\n",
              "      <td>0.0</td>\n",
              "      <td>0.0</td>\n",
              "      <td>0.0</td>\n",
              "      <td>0.0</td>\n",
              "      <td>1.0</td>\n",
              "      <td>1.0</td>\n",
              "      <td>1.0</td>\n",
              "      <td>0.0</td>\n",
              "      <td>NaN</td>\n",
              "    </tr>\n",
              "    <tr>\n",
              "      <th>2</th>\n",
              "      <td>democrat</td>\n",
              "      <td>NaN</td>\n",
              "      <td>1.0</td>\n",
              "      <td>1.0</td>\n",
              "      <td>NaN</td>\n",
              "      <td>1.0</td>\n",
              "      <td>1.0</td>\n",
              "      <td>0.0</td>\n",
              "      <td>0.0</td>\n",
              "      <td>0.0</td>\n",
              "      <td>0.0</td>\n",
              "      <td>1.0</td>\n",
              "      <td>0.0</td>\n",
              "      <td>1.0</td>\n",
              "      <td>1.0</td>\n",
              "      <td>0.0</td>\n",
              "      <td>0.0</td>\n",
              "    </tr>\n",
              "    <tr>\n",
              "      <th>3</th>\n",
              "      <td>democrat</td>\n",
              "      <td>0.0</td>\n",
              "      <td>1.0</td>\n",
              "      <td>1.0</td>\n",
              "      <td>0.0</td>\n",
              "      <td>NaN</td>\n",
              "      <td>1.0</td>\n",
              "      <td>0.0</td>\n",
              "      <td>0.0</td>\n",
              "      <td>0.0</td>\n",
              "      <td>0.0</td>\n",
              "      <td>1.0</td>\n",
              "      <td>0.0</td>\n",
              "      <td>1.0</td>\n",
              "      <td>0.0</td>\n",
              "      <td>0.0</td>\n",
              "      <td>1.0</td>\n",
              "    </tr>\n",
              "    <tr>\n",
              "      <th>4</th>\n",
              "      <td>democrat</td>\n",
              "      <td>1.0</td>\n",
              "      <td>1.0</td>\n",
              "      <td>1.0</td>\n",
              "      <td>0.0</td>\n",
              "      <td>1.0</td>\n",
              "      <td>1.0</td>\n",
              "      <td>0.0</td>\n",
              "      <td>0.0</td>\n",
              "      <td>0.0</td>\n",
              "      <td>0.0</td>\n",
              "      <td>1.0</td>\n",
              "      <td>NaN</td>\n",
              "      <td>1.0</td>\n",
              "      <td>1.0</td>\n",
              "      <td>1.0</td>\n",
              "      <td>1.0</td>\n",
              "    </tr>\n",
              "  </tbody>\n",
              "</table>\n",
              "</div>"
            ],
            "text/plain": [
              "        party  handicapped-infants  ...  duty-free  south-africa\n",
              "0  republican                  0.0  ...        0.0           1.0\n",
              "1  republican                  0.0  ...        0.0           NaN\n",
              "2    democrat                  NaN  ...        0.0           0.0\n",
              "3    democrat                  0.0  ...        0.0           1.0\n",
              "4    democrat                  1.0  ...        1.0           1.0\n",
              "\n",
              "[5 rows x 17 columns]"
            ]
          },
          "metadata": {
            "tags": []
          },
          "execution_count": 23
        }
      ]
    },
    {
      "cell_type": "code",
      "metadata": {
        "id": "xRKPLQCJD00o",
        "colab_type": "code",
        "outputId": "87a30dbe-25f3-4204-bb5f-0e67afbf7f2b",
        "colab": {
          "base_uri": "https://localhost:8080/",
          "height": 336
        }
      },
      "source": [
        "df.isnull().sum(axis=0)"
      ],
      "execution_count": 0,
      "outputs": [
        {
          "output_type": "execute_result",
          "data": {
            "text/plain": [
              "party                     0\n",
              "handicapped-infants      12\n",
              "water-project            48\n",
              "budget                   11\n",
              "physician-fee-freeze     11\n",
              "el-salvador-aid          15\n",
              "religious-groups         11\n",
              "anti-satellite-ban       14\n",
              "aid-to-contras           15\n",
              "mx-missile               22\n",
              "immigration               7\n",
              "synfuels                 21\n",
              "education                31\n",
              "right-to-sue             25\n",
              "crime                    17\n",
              "duty-free                28\n",
              "south-africa            104\n",
              "dtype: int64"
            ]
          },
          "metadata": {
            "tags": []
          },
          "execution_count": 25
        }
      ]
    },
    {
      "cell_type": "code",
      "metadata": {
        "id": "zuquKMo8E1sv",
        "colab_type": "code",
        "outputId": "7808ee1d-180a-4c04-9cc0-bc71ff4e6721",
        "colab": {
          "base_uri": "https://localhost:8080/",
          "height": 70
        }
      },
      "source": [
        "df['party'].value_counts()"
      ],
      "execution_count": 0,
      "outputs": [
        {
          "output_type": "execute_result",
          "data": {
            "text/plain": [
              "democrat      267\n",
              "republican    168\n",
              "Name: party, dtype: int64"
            ]
          },
          "metadata": {
            "tags": []
          },
          "execution_count": 26
        }
      ]
    },
    {
      "cell_type": "markdown",
      "metadata": {
        "id": "iclx-am5EaHT",
        "colab_type": "text"
      },
      "source": [
        "## 1) 1 sample example\n",
        "\n",
        "Null Hypothesis: Congressional Levels of support for the handicapped-infants bill is .5 (50%)\n",
        "\n",
        "Alternative Hypothesis: Support is different than 50%. \n",
        "\n",
        "Confidence Level: 95%"
      ]
    },
    {
      "cell_type": "code",
      "metadata": {
        "id": "Fk4BEF7FFUia",
        "colab_type": "code",
        "outputId": "596cfc9b-eb5e-4e7c-84a3-e4a3a0c3b649",
        "colab": {
          "base_uri": "https://localhost:8080/",
          "height": 34
        }
      },
      "source": [
        "sample = df['handicapped-infants'].dropna()\n",
        "\n",
        "stats.ttest_1samp(sample, .5)"
      ],
      "execution_count": 0,
      "outputs": [
        {
          "output_type": "execute_result",
          "data": {
            "text/plain": [
              "Ttest_1sampResult(statistic=-2.3957721114055923, pvalue=0.01702012396699793)"
            ]
          },
          "metadata": {
            "tags": []
          },
          "execution_count": 28
        }
      ]
    },
    {
      "cell_type": "code",
      "metadata": {
        "id": "Dfm1HpFKEe4l",
        "colab_type": "code",
        "outputId": "b87d3f09-b950-4b05-e9af-db4fecd248ba",
        "colab": {
          "base_uri": "https://localhost:8080/",
          "height": 34
        }
      },
      "source": [
        "#Alternative way for .dropna method\n",
        "stats.ttest_1samp(df['handicapped-infants'], .5, nan_policy='omit')"
      ],
      "execution_count": 0,
      "outputs": [
        {
          "output_type": "execute_result",
          "data": {
            "text/plain": [
              "Ttest_1sampResult(statistic=-2.3957721114055923, pvalue=0.01702012396699704)"
            ]
          },
          "metadata": {
            "tags": []
          },
          "execution_count": 27
        }
      ]
    },
    {
      "cell_type": "markdown",
      "metadata": {
        "id": "TaWJE1oVFwye",
        "colab_type": "text"
      },
      "source": [
        "Based on a t-statistic of -2.39 and a p-value of .017, I **reject** the null hypothesis that congressional support for the handicapped-infants bill is equal to 50%.\n",
        "\n",
        "for lower than 0.05 (5%) we can confidently reject the Null hypothesis while for bigger numbers we \"cannot reject\" the null hypotheisis (even with a 6% probability). But we won't use the word confirm with 6% probability either!"
      ]
    },
    {
      "cell_type": "markdown",
      "metadata": {
        "id": "Wvu8tjRGGKRG",
        "colab_type": "text"
      },
      "source": [
        "### detecting the direction of deviation\n",
        "\n",
        "1) Sign of the t-statistic (negative) -> that the sample mean is less than the null hypothesis value\n",
        "\n",
        "2) Just look at the sample mean"
      ]
    },
    {
      "cell_type": "code",
      "metadata": {
        "id": "WXTzyVDHGhzX",
        "colab_type": "code",
        "outputId": "e3b5426c-abc7-4640-fb0e-692f370dae2a",
        "colab": {
          "base_uri": "https://localhost:8080/",
          "height": 34
        }
      },
      "source": [
        "df['handicapped-infants'].mean()"
      ],
      "execution_count": 0,
      "outputs": [
        {
          "output_type": "execute_result",
          "data": {
            "text/plain": [
              "0.44208037825059104"
            ]
          },
          "metadata": {
            "tags": []
          },
          "execution_count": 29
        }
      ]
    },
    {
      "cell_type": "markdown",
      "metadata": {
        "id": "WlmUjud6GoiO",
        "colab_type": "text"
      },
      "source": [
        "## 2) 2 sample example\n",
        "\n",
        "Null Hypothesis: the two sample means are equal. Republican support this bill at the same rate that Democrats do.\n",
        "\n",
        "Alternative Hypothesis: They support this bill at different rates\n",
        "\n",
        "Confidence Level: 95%"
      ]
    },
    {
      "cell_type": "code",
      "metadata": {
        "id": "m5DV0-lTHEYQ",
        "colab_type": "code",
        "outputId": "6b3bfab3-b06d-414d-de82-88f7b57ab7e7",
        "colab": {
          "base_uri": "https://localhost:8080/",
          "height": 231
        }
      },
      "source": [
        "df.head()"
      ],
      "execution_count": 0,
      "outputs": [
        {
          "output_type": "execute_result",
          "data": {
            "text/html": [
              "<div>\n",
              "<style scoped>\n",
              "    .dataframe tbody tr th:only-of-type {\n",
              "        vertical-align: middle;\n",
              "    }\n",
              "\n",
              "    .dataframe tbody tr th {\n",
              "        vertical-align: top;\n",
              "    }\n",
              "\n",
              "    .dataframe thead th {\n",
              "        text-align: right;\n",
              "    }\n",
              "</style>\n",
              "<table border=\"1\" class=\"dataframe\">\n",
              "  <thead>\n",
              "    <tr style=\"text-align: right;\">\n",
              "      <th></th>\n",
              "      <th>party</th>\n",
              "      <th>handicapped-infants</th>\n",
              "      <th>water-project</th>\n",
              "      <th>budget</th>\n",
              "      <th>physician-fee-freeze</th>\n",
              "      <th>el-salvador-aid</th>\n",
              "      <th>religious-groups</th>\n",
              "      <th>anti-satellite-ban</th>\n",
              "      <th>aid-to-contras</th>\n",
              "      <th>mx-missile</th>\n",
              "      <th>immigration</th>\n",
              "      <th>synfuels</th>\n",
              "      <th>education</th>\n",
              "      <th>right-to-sue</th>\n",
              "      <th>crime</th>\n",
              "      <th>duty-free</th>\n",
              "      <th>south-africa</th>\n",
              "    </tr>\n",
              "  </thead>\n",
              "  <tbody>\n",
              "    <tr>\n",
              "      <th>0</th>\n",
              "      <td>republican</td>\n",
              "      <td>0.0</td>\n",
              "      <td>1.0</td>\n",
              "      <td>0.0</td>\n",
              "      <td>1.0</td>\n",
              "      <td>1.0</td>\n",
              "      <td>1.0</td>\n",
              "      <td>0.0</td>\n",
              "      <td>0.0</td>\n",
              "      <td>0.0</td>\n",
              "      <td>1.0</td>\n",
              "      <td>NaN</td>\n",
              "      <td>1.0</td>\n",
              "      <td>1.0</td>\n",
              "      <td>1.0</td>\n",
              "      <td>0.0</td>\n",
              "      <td>1.0</td>\n",
              "    </tr>\n",
              "    <tr>\n",
              "      <th>1</th>\n",
              "      <td>republican</td>\n",
              "      <td>0.0</td>\n",
              "      <td>1.0</td>\n",
              "      <td>0.0</td>\n",
              "      <td>1.0</td>\n",
              "      <td>1.0</td>\n",
              "      <td>1.0</td>\n",
              "      <td>0.0</td>\n",
              "      <td>0.0</td>\n",
              "      <td>0.0</td>\n",
              "      <td>0.0</td>\n",
              "      <td>0.0</td>\n",
              "      <td>1.0</td>\n",
              "      <td>1.0</td>\n",
              "      <td>1.0</td>\n",
              "      <td>0.0</td>\n",
              "      <td>NaN</td>\n",
              "    </tr>\n",
              "    <tr>\n",
              "      <th>2</th>\n",
              "      <td>democrat</td>\n",
              "      <td>NaN</td>\n",
              "      <td>1.0</td>\n",
              "      <td>1.0</td>\n",
              "      <td>NaN</td>\n",
              "      <td>1.0</td>\n",
              "      <td>1.0</td>\n",
              "      <td>0.0</td>\n",
              "      <td>0.0</td>\n",
              "      <td>0.0</td>\n",
              "      <td>0.0</td>\n",
              "      <td>1.0</td>\n",
              "      <td>0.0</td>\n",
              "      <td>1.0</td>\n",
              "      <td>1.0</td>\n",
              "      <td>0.0</td>\n",
              "      <td>0.0</td>\n",
              "    </tr>\n",
              "    <tr>\n",
              "      <th>3</th>\n",
              "      <td>democrat</td>\n",
              "      <td>0.0</td>\n",
              "      <td>1.0</td>\n",
              "      <td>1.0</td>\n",
              "      <td>0.0</td>\n",
              "      <td>NaN</td>\n",
              "      <td>1.0</td>\n",
              "      <td>0.0</td>\n",
              "      <td>0.0</td>\n",
              "      <td>0.0</td>\n",
              "      <td>0.0</td>\n",
              "      <td>1.0</td>\n",
              "      <td>0.0</td>\n",
              "      <td>1.0</td>\n",
              "      <td>0.0</td>\n",
              "      <td>0.0</td>\n",
              "      <td>1.0</td>\n",
              "    </tr>\n",
              "    <tr>\n",
              "      <th>4</th>\n",
              "      <td>democrat</td>\n",
              "      <td>1.0</td>\n",
              "      <td>1.0</td>\n",
              "      <td>1.0</td>\n",
              "      <td>0.0</td>\n",
              "      <td>1.0</td>\n",
              "      <td>1.0</td>\n",
              "      <td>0.0</td>\n",
              "      <td>0.0</td>\n",
              "      <td>0.0</td>\n",
              "      <td>0.0</td>\n",
              "      <td>1.0</td>\n",
              "      <td>NaN</td>\n",
              "      <td>1.0</td>\n",
              "      <td>1.0</td>\n",
              "      <td>1.0</td>\n",
              "      <td>1.0</td>\n",
              "    </tr>\n",
              "  </tbody>\n",
              "</table>\n",
              "</div>"
            ],
            "text/plain": [
              "        party  handicapped-infants  ...  duty-free  south-africa\n",
              "0  republican                  0.0  ...        0.0           1.0\n",
              "1  republican                  0.0  ...        0.0           NaN\n",
              "2    democrat                  NaN  ...        0.0           0.0\n",
              "3    democrat                  0.0  ...        0.0           1.0\n",
              "4    democrat                  1.0  ...        1.0           1.0\n",
              "\n",
              "[5 rows x 17 columns]"
            ]
          },
          "metadata": {
            "tags": []
          },
          "execution_count": 30
        }
      ]
    },
    {
      "cell_type": "code",
      "metadata": {
        "id": "ih5MlEUI0A86",
        "colab_type": "code",
        "outputId": "62ddaade-38be-4465-935a-b988a1b21c60",
        "colab": {
          "base_uri": "https://localhost:8080/",
          "height": 230
        }
      },
      "source": [
        "df['party']== 'democrat'"
      ],
      "execution_count": 0,
      "outputs": [
        {
          "output_type": "execute_result",
          "data": {
            "text/plain": [
              "0      False\n",
              "1      False\n",
              "2       True\n",
              "3       True\n",
              "4       True\n",
              "       ...  \n",
              "430    False\n",
              "431     True\n",
              "432    False\n",
              "433    False\n",
              "434    False\n",
              "Name: party, Length: 435, dtype: bool"
            ]
          },
          "metadata": {
            "tags": []
          },
          "execution_count": 33
        }
      ]
    },
    {
      "cell_type": "code",
      "metadata": {
        "id": "mkT2OIeRHAC8",
        "colab_type": "code",
        "outputId": "c1d2cd6f-843d-426f-f73d-29a01bc0652c",
        "colab": {
          "base_uri": "https://localhost:8080/",
          "height": 231
        }
      },
      "source": [
        "dem = df[df['party'] == 'democrat']\n",
        "rep = df[df['party'] == 'republican']\n",
        "dem.head()"
      ],
      "execution_count": 0,
      "outputs": [
        {
          "output_type": "execute_result",
          "data": {
            "text/html": [
              "<div>\n",
              "<style scoped>\n",
              "    .dataframe tbody tr th:only-of-type {\n",
              "        vertical-align: middle;\n",
              "    }\n",
              "\n",
              "    .dataframe tbody tr th {\n",
              "        vertical-align: top;\n",
              "    }\n",
              "\n",
              "    .dataframe thead th {\n",
              "        text-align: right;\n",
              "    }\n",
              "</style>\n",
              "<table border=\"1\" class=\"dataframe\">\n",
              "  <thead>\n",
              "    <tr style=\"text-align: right;\">\n",
              "      <th></th>\n",
              "      <th>party</th>\n",
              "      <th>handicapped-infants</th>\n",
              "      <th>water-project</th>\n",
              "      <th>budget</th>\n",
              "      <th>physician-fee-freeze</th>\n",
              "      <th>el-salvador-aid</th>\n",
              "      <th>religious-groups</th>\n",
              "      <th>anti-satellite-ban</th>\n",
              "      <th>aid-to-contras</th>\n",
              "      <th>mx-missile</th>\n",
              "      <th>immigration</th>\n",
              "      <th>synfuels</th>\n",
              "      <th>education</th>\n",
              "      <th>right-to-sue</th>\n",
              "      <th>crime</th>\n",
              "      <th>duty-free</th>\n",
              "      <th>south-africa</th>\n",
              "    </tr>\n",
              "  </thead>\n",
              "  <tbody>\n",
              "    <tr>\n",
              "      <th>2</th>\n",
              "      <td>democrat</td>\n",
              "      <td>NaN</td>\n",
              "      <td>1.0</td>\n",
              "      <td>1.0</td>\n",
              "      <td>NaN</td>\n",
              "      <td>1.0</td>\n",
              "      <td>1.0</td>\n",
              "      <td>0.0</td>\n",
              "      <td>0.0</td>\n",
              "      <td>0.0</td>\n",
              "      <td>0.0</td>\n",
              "      <td>1.0</td>\n",
              "      <td>0.0</td>\n",
              "      <td>1.0</td>\n",
              "      <td>1.0</td>\n",
              "      <td>0.0</td>\n",
              "      <td>0.0</td>\n",
              "    </tr>\n",
              "    <tr>\n",
              "      <th>3</th>\n",
              "      <td>democrat</td>\n",
              "      <td>0.0</td>\n",
              "      <td>1.0</td>\n",
              "      <td>1.0</td>\n",
              "      <td>0.0</td>\n",
              "      <td>NaN</td>\n",
              "      <td>1.0</td>\n",
              "      <td>0.0</td>\n",
              "      <td>0.0</td>\n",
              "      <td>0.0</td>\n",
              "      <td>0.0</td>\n",
              "      <td>1.0</td>\n",
              "      <td>0.0</td>\n",
              "      <td>1.0</td>\n",
              "      <td>0.0</td>\n",
              "      <td>0.0</td>\n",
              "      <td>1.0</td>\n",
              "    </tr>\n",
              "    <tr>\n",
              "      <th>4</th>\n",
              "      <td>democrat</td>\n",
              "      <td>1.0</td>\n",
              "      <td>1.0</td>\n",
              "      <td>1.0</td>\n",
              "      <td>0.0</td>\n",
              "      <td>1.0</td>\n",
              "      <td>1.0</td>\n",
              "      <td>0.0</td>\n",
              "      <td>0.0</td>\n",
              "      <td>0.0</td>\n",
              "      <td>0.0</td>\n",
              "      <td>1.0</td>\n",
              "      <td>NaN</td>\n",
              "      <td>1.0</td>\n",
              "      <td>1.0</td>\n",
              "      <td>1.0</td>\n",
              "      <td>1.0</td>\n",
              "    </tr>\n",
              "    <tr>\n",
              "      <th>5</th>\n",
              "      <td>democrat</td>\n",
              "      <td>0.0</td>\n",
              "      <td>1.0</td>\n",
              "      <td>1.0</td>\n",
              "      <td>0.0</td>\n",
              "      <td>1.0</td>\n",
              "      <td>1.0</td>\n",
              "      <td>0.0</td>\n",
              "      <td>0.0</td>\n",
              "      <td>0.0</td>\n",
              "      <td>0.0</td>\n",
              "      <td>0.0</td>\n",
              "      <td>0.0</td>\n",
              "      <td>1.0</td>\n",
              "      <td>1.0</td>\n",
              "      <td>1.0</td>\n",
              "      <td>1.0</td>\n",
              "    </tr>\n",
              "    <tr>\n",
              "      <th>6</th>\n",
              "      <td>democrat</td>\n",
              "      <td>0.0</td>\n",
              "      <td>1.0</td>\n",
              "      <td>0.0</td>\n",
              "      <td>1.0</td>\n",
              "      <td>1.0</td>\n",
              "      <td>1.0</td>\n",
              "      <td>0.0</td>\n",
              "      <td>0.0</td>\n",
              "      <td>0.0</td>\n",
              "      <td>0.0</td>\n",
              "      <td>0.0</td>\n",
              "      <td>0.0</td>\n",
              "      <td>NaN</td>\n",
              "      <td>1.0</td>\n",
              "      <td>1.0</td>\n",
              "      <td>1.0</td>\n",
              "    </tr>\n",
              "  </tbody>\n",
              "</table>\n",
              "</div>"
            ],
            "text/plain": [
              "      party  handicapped-infants  water-project  ...  crime  duty-free  south-africa\n",
              "2  democrat                  NaN            1.0  ...    1.0        0.0           0.0\n",
              "3  democrat                  0.0            1.0  ...    0.0        0.0           1.0\n",
              "4  democrat                  1.0            1.0  ...    1.0        1.0           1.0\n",
              "5  democrat                  0.0            1.0  ...    1.0        1.0           1.0\n",
              "6  democrat                  0.0            1.0  ...    1.0        1.0           1.0\n",
              "\n",
              "[5 rows x 17 columns]"
            ]
          },
          "metadata": {
            "tags": []
          },
          "execution_count": 34
        }
      ]
    },
    {
      "cell_type": "code",
      "metadata": {
        "id": "UwFQ8z1KGnKO",
        "colab_type": "code",
        "outputId": "d751999a-c158-443c-8c1f-06ee009d5c74",
        "colab": {
          "base_uri": "https://localhost:8080/",
          "height": 34
        }
      },
      "source": [
        "stats.ttest_ind(rep['handicapped-infants'], dem['handicapped-infants'], nan_policy='omit')"
      ],
      "execution_count": 0,
      "outputs": [
        {
          "output_type": "execute_result",
          "data": {
            "text/plain": [
              "Ttest_indResult(statistic=-9.205264294809222, pvalue=1.613440327937243e-18)"
            ]
          },
          "metadata": {
            "tags": []
          },
          "execution_count": 73
        }
      ]
    },
    {
      "cell_type": "markdown",
      "metadata": {
        "id": "EZ0QoT9ZHakV",
        "colab_type": "text"
      },
      "source": [
        "Conclusion: \n",
        "\n",
        "Based on a t-statistic of -9.2, and a p-value of 0, we **reject** the null hypothesis that republicans and democrats support this bill at the same rate, and suggest the alternative, that republicans and democrats show different levels of support for this bill. \n",
        "\n",
        "Do republican or democrats support this bill more?"
      ]
    },
    {
      "cell_type": "code",
      "metadata": {
        "id": "d2P6VblQHviN",
        "colab_type": "code",
        "outputId": "1d478a28-a8af-4f6c-9cdd-a6f08eb102fa",
        "colab": {
          "base_uri": "https://localhost:8080/",
          "height": 50
        }
      },
      "source": [
        "print(rep['handicapped-infants'].mean())\n",
        "print(dem['handicapped-infants'].mean())"
      ],
      "execution_count": 0,
      "outputs": [
        {
          "output_type": "stream",
          "text": [
            "0.18787878787878787\n",
            "0.6046511627906976\n"
          ],
          "name": "stdout"
        }
      ]
    },
    {
      "cell_type": "code",
      "metadata": {
        "id": "r-HSvyX4Ihy0",
        "colab_type": "code",
        "outputId": "ec4cd729-9ceb-45d0-f21a-426cacd33722",
        "colab": {
          "base_uri": "https://localhost:8080/",
          "height": 249
        }
      },
      "source": [
        "df.head()"
      ],
      "execution_count": 0,
      "outputs": [
        {
          "output_type": "execute_result",
          "data": {
            "text/html": [
              "<div>\n",
              "<style scoped>\n",
              "    .dataframe tbody tr th:only-of-type {\n",
              "        vertical-align: middle;\n",
              "    }\n",
              "\n",
              "    .dataframe tbody tr th {\n",
              "        vertical-align: top;\n",
              "    }\n",
              "\n",
              "    .dataframe thead th {\n",
              "        text-align: right;\n",
              "    }\n",
              "</style>\n",
              "<table border=\"1\" class=\"dataframe\">\n",
              "  <thead>\n",
              "    <tr style=\"text-align: right;\">\n",
              "      <th></th>\n",
              "      <th>party</th>\n",
              "      <th>handicapped-infants</th>\n",
              "      <th>water-project</th>\n",
              "      <th>budget</th>\n",
              "      <th>physician-fee-freeze</th>\n",
              "      <th>el-salvador-aid</th>\n",
              "      <th>religious-groups</th>\n",
              "      <th>anti-satellite-ban</th>\n",
              "      <th>aid-to-contras</th>\n",
              "      <th>mx-missile</th>\n",
              "      <th>immigration</th>\n",
              "      <th>synfuels</th>\n",
              "      <th>education</th>\n",
              "      <th>right-to-sue</th>\n",
              "      <th>crime</th>\n",
              "      <th>duty-free</th>\n",
              "      <th>south-africa</th>\n",
              "    </tr>\n",
              "  </thead>\n",
              "  <tbody>\n",
              "    <tr>\n",
              "      <th>0</th>\n",
              "      <td>republican</td>\n",
              "      <td>0.0</td>\n",
              "      <td>1.0</td>\n",
              "      <td>0.0</td>\n",
              "      <td>1.0</td>\n",
              "      <td>1.0</td>\n",
              "      <td>1.0</td>\n",
              "      <td>0.0</td>\n",
              "      <td>0.0</td>\n",
              "      <td>0.0</td>\n",
              "      <td>1.0</td>\n",
              "      <td>NaN</td>\n",
              "      <td>1.0</td>\n",
              "      <td>1.0</td>\n",
              "      <td>1.0</td>\n",
              "      <td>0.0</td>\n",
              "      <td>1.0</td>\n",
              "    </tr>\n",
              "    <tr>\n",
              "      <th>1</th>\n",
              "      <td>republican</td>\n",
              "      <td>0.0</td>\n",
              "      <td>1.0</td>\n",
              "      <td>0.0</td>\n",
              "      <td>1.0</td>\n",
              "      <td>1.0</td>\n",
              "      <td>1.0</td>\n",
              "      <td>0.0</td>\n",
              "      <td>0.0</td>\n",
              "      <td>0.0</td>\n",
              "      <td>0.0</td>\n",
              "      <td>0.0</td>\n",
              "      <td>1.0</td>\n",
              "      <td>1.0</td>\n",
              "      <td>1.0</td>\n",
              "      <td>0.0</td>\n",
              "      <td>NaN</td>\n",
              "    </tr>\n",
              "    <tr>\n",
              "      <th>2</th>\n",
              "      <td>democrat</td>\n",
              "      <td>NaN</td>\n",
              "      <td>1.0</td>\n",
              "      <td>1.0</td>\n",
              "      <td>NaN</td>\n",
              "      <td>1.0</td>\n",
              "      <td>1.0</td>\n",
              "      <td>0.0</td>\n",
              "      <td>0.0</td>\n",
              "      <td>0.0</td>\n",
              "      <td>0.0</td>\n",
              "      <td>1.0</td>\n",
              "      <td>0.0</td>\n",
              "      <td>1.0</td>\n",
              "      <td>1.0</td>\n",
              "      <td>0.0</td>\n",
              "      <td>0.0</td>\n",
              "    </tr>\n",
              "    <tr>\n",
              "      <th>3</th>\n",
              "      <td>democrat</td>\n",
              "      <td>0.0</td>\n",
              "      <td>1.0</td>\n",
              "      <td>1.0</td>\n",
              "      <td>0.0</td>\n",
              "      <td>NaN</td>\n",
              "      <td>1.0</td>\n",
              "      <td>0.0</td>\n",
              "      <td>0.0</td>\n",
              "      <td>0.0</td>\n",
              "      <td>0.0</td>\n",
              "      <td>1.0</td>\n",
              "      <td>0.0</td>\n",
              "      <td>1.0</td>\n",
              "      <td>0.0</td>\n",
              "      <td>0.0</td>\n",
              "      <td>1.0</td>\n",
              "    </tr>\n",
              "    <tr>\n",
              "      <th>4</th>\n",
              "      <td>democrat</td>\n",
              "      <td>1.0</td>\n",
              "      <td>1.0</td>\n",
              "      <td>1.0</td>\n",
              "      <td>0.0</td>\n",
              "      <td>1.0</td>\n",
              "      <td>1.0</td>\n",
              "      <td>0.0</td>\n",
              "      <td>0.0</td>\n",
              "      <td>0.0</td>\n",
              "      <td>0.0</td>\n",
              "      <td>1.0</td>\n",
              "      <td>NaN</td>\n",
              "      <td>1.0</td>\n",
              "      <td>1.0</td>\n",
              "      <td>1.0</td>\n",
              "      <td>1.0</td>\n",
              "    </tr>\n",
              "  </tbody>\n",
              "</table>\n",
              "</div>"
            ],
            "text/plain": [
              "        party  handicapped-infants  ...  duty-free  south-africa\n",
              "0  republican                  0.0  ...        0.0           1.0\n",
              "1  republican                  0.0  ...        0.0           NaN\n",
              "2    democrat                  NaN  ...        0.0           0.0\n",
              "3    democrat                  0.0  ...        0.0           1.0\n",
              "4    democrat                  1.0  ...        1.0           1.0\n",
              "\n",
              "[5 rows x 17 columns]"
            ]
          },
          "metadata": {
            "tags": []
          },
          "execution_count": 78
        }
      ]
    },
    {
      "cell_type": "code",
      "metadata": {
        "id": "yVhLs2-AIkUA",
        "colab_type": "code",
        "outputId": "18a60fed-f0d4-45b4-9317-7ee25a30eb68",
        "colab": {
          "base_uri": "https://localhost:8080/",
          "height": 397
        }
      },
      "source": [
        "# Random sunset of dataframe\n",
        "df.sample(10, random_state=42)"
      ],
      "execution_count": 0,
      "outputs": [
        {
          "output_type": "execute_result",
          "data": {
            "text/html": [
              "<div>\n",
              "<style scoped>\n",
              "    .dataframe tbody tr th:only-of-type {\n",
              "        vertical-align: middle;\n",
              "    }\n",
              "\n",
              "    .dataframe tbody tr th {\n",
              "        vertical-align: top;\n",
              "    }\n",
              "\n",
              "    .dataframe thead th {\n",
              "        text-align: right;\n",
              "    }\n",
              "</style>\n",
              "<table border=\"1\" class=\"dataframe\">\n",
              "  <thead>\n",
              "    <tr style=\"text-align: right;\">\n",
              "      <th></th>\n",
              "      <th>party</th>\n",
              "      <th>handicapped-infants</th>\n",
              "      <th>water-project</th>\n",
              "      <th>budget</th>\n",
              "      <th>physician-fee-freeze</th>\n",
              "      <th>el-salvador-aid</th>\n",
              "      <th>religious-groups</th>\n",
              "      <th>anti-satellite-ban</th>\n",
              "      <th>aid-to-contras</th>\n",
              "      <th>mx-missile</th>\n",
              "      <th>immigration</th>\n",
              "      <th>synfuels</th>\n",
              "      <th>education</th>\n",
              "      <th>right-to-sue</th>\n",
              "      <th>crime</th>\n",
              "      <th>duty-free</th>\n",
              "      <th>south-africa</th>\n",
              "    </tr>\n",
              "  </thead>\n",
              "  <tbody>\n",
              "    <tr>\n",
              "      <th>280</th>\n",
              "      <td>democrat</td>\n",
              "      <td>0.0</td>\n",
              "      <td>0.0</td>\n",
              "      <td>1.0</td>\n",
              "      <td>0.0</td>\n",
              "      <td>0.0</td>\n",
              "      <td>0.0</td>\n",
              "      <td>1.0</td>\n",
              "      <td>1.0</td>\n",
              "      <td>1.0</td>\n",
              "      <td>1.0</td>\n",
              "      <td>0.0</td>\n",
              "      <td>0.0</td>\n",
              "      <td>0.0</td>\n",
              "      <td>1.0</td>\n",
              "      <td>0.0</td>\n",
              "      <td>1.0</td>\n",
              "    </tr>\n",
              "    <tr>\n",
              "      <th>78</th>\n",
              "      <td>democrat</td>\n",
              "      <td>1.0</td>\n",
              "      <td>1.0</td>\n",
              "      <td>1.0</td>\n",
              "      <td>0.0</td>\n",
              "      <td>1.0</td>\n",
              "      <td>1.0</td>\n",
              "      <td>0.0</td>\n",
              "      <td>0.0</td>\n",
              "      <td>0.0</td>\n",
              "      <td>1.0</td>\n",
              "      <td>1.0</td>\n",
              "      <td>0.0</td>\n",
              "      <td>1.0</td>\n",
              "      <td>1.0</td>\n",
              "      <td>0.0</td>\n",
              "      <td>1.0</td>\n",
              "    </tr>\n",
              "    <tr>\n",
              "      <th>113</th>\n",
              "      <td>republican</td>\n",
              "      <td>0.0</td>\n",
              "      <td>NaN</td>\n",
              "      <td>0.0</td>\n",
              "      <td>1.0</td>\n",
              "      <td>1.0</td>\n",
              "      <td>1.0</td>\n",
              "      <td>0.0</td>\n",
              "      <td>0.0</td>\n",
              "      <td>0.0</td>\n",
              "      <td>1.0</td>\n",
              "      <td>0.0</td>\n",
              "      <td>1.0</td>\n",
              "      <td>1.0</td>\n",
              "      <td>1.0</td>\n",
              "      <td>0.0</td>\n",
              "      <td>0.0</td>\n",
              "    </tr>\n",
              "    <tr>\n",
              "      <th>253</th>\n",
              "      <td>republican</td>\n",
              "      <td>0.0</td>\n",
              "      <td>1.0</td>\n",
              "      <td>0.0</td>\n",
              "      <td>1.0</td>\n",
              "      <td>1.0</td>\n",
              "      <td>1.0</td>\n",
              "      <td>0.0</td>\n",
              "      <td>0.0</td>\n",
              "      <td>0.0</td>\n",
              "      <td>0.0</td>\n",
              "      <td>0.0</td>\n",
              "      <td>1.0</td>\n",
              "      <td>1.0</td>\n",
              "      <td>1.0</td>\n",
              "      <td>0.0</td>\n",
              "      <td>1.0</td>\n",
              "    </tr>\n",
              "    <tr>\n",
              "      <th>324</th>\n",
              "      <td>republican</td>\n",
              "      <td>0.0</td>\n",
              "      <td>1.0</td>\n",
              "      <td>0.0</td>\n",
              "      <td>1.0</td>\n",
              "      <td>1.0</td>\n",
              "      <td>1.0</td>\n",
              "      <td>0.0</td>\n",
              "      <td>0.0</td>\n",
              "      <td>0.0</td>\n",
              "      <td>0.0</td>\n",
              "      <td>1.0</td>\n",
              "      <td>1.0</td>\n",
              "      <td>1.0</td>\n",
              "      <td>1.0</td>\n",
              "      <td>0.0</td>\n",
              "      <td>0.0</td>\n",
              "    </tr>\n",
              "    <tr>\n",
              "      <th>327</th>\n",
              "      <td>republican</td>\n",
              "      <td>0.0</td>\n",
              "      <td>1.0</td>\n",
              "      <td>0.0</td>\n",
              "      <td>1.0</td>\n",
              "      <td>1.0</td>\n",
              "      <td>1.0</td>\n",
              "      <td>0.0</td>\n",
              "      <td>0.0</td>\n",
              "      <td>0.0</td>\n",
              "      <td>0.0</td>\n",
              "      <td>0.0</td>\n",
              "      <td>1.0</td>\n",
              "      <td>1.0</td>\n",
              "      <td>1.0</td>\n",
              "      <td>0.0</td>\n",
              "      <td>1.0</td>\n",
              "    </tr>\n",
              "    <tr>\n",
              "      <th>291</th>\n",
              "      <td>democrat</td>\n",
              "      <td>1.0</td>\n",
              "      <td>0.0</td>\n",
              "      <td>1.0</td>\n",
              "      <td>0.0</td>\n",
              "      <td>0.0</td>\n",
              "      <td>1.0</td>\n",
              "      <td>1.0</td>\n",
              "      <td>1.0</td>\n",
              "      <td>1.0</td>\n",
              "      <td>1.0</td>\n",
              "      <td>0.0</td>\n",
              "      <td>NaN</td>\n",
              "      <td>0.0</td>\n",
              "      <td>1.0</td>\n",
              "      <td>0.0</td>\n",
              "      <td>1.0</td>\n",
              "    </tr>\n",
              "    <tr>\n",
              "      <th>82</th>\n",
              "      <td>republican</td>\n",
              "      <td>0.0</td>\n",
              "      <td>0.0</td>\n",
              "      <td>0.0</td>\n",
              "      <td>1.0</td>\n",
              "      <td>1.0</td>\n",
              "      <td>1.0</td>\n",
              "      <td>0.0</td>\n",
              "      <td>0.0</td>\n",
              "      <td>0.0</td>\n",
              "      <td>1.0</td>\n",
              "      <td>0.0</td>\n",
              "      <td>1.0</td>\n",
              "      <td>1.0</td>\n",
              "      <td>1.0</td>\n",
              "      <td>0.0</td>\n",
              "      <td>1.0</td>\n",
              "    </tr>\n",
              "    <tr>\n",
              "      <th>365</th>\n",
              "      <td>democrat</td>\n",
              "      <td>0.0</td>\n",
              "      <td>1.0</td>\n",
              "      <td>0.0</td>\n",
              "      <td>0.0</td>\n",
              "      <td>1.0</td>\n",
              "      <td>1.0</td>\n",
              "      <td>0.0</td>\n",
              "      <td>0.0</td>\n",
              "      <td>0.0</td>\n",
              "      <td>1.0</td>\n",
              "      <td>1.0</td>\n",
              "      <td>0.0</td>\n",
              "      <td>1.0</td>\n",
              "      <td>1.0</td>\n",
              "      <td>0.0</td>\n",
              "      <td>0.0</td>\n",
              "    </tr>\n",
              "    <tr>\n",
              "      <th>401</th>\n",
              "      <td>republican</td>\n",
              "      <td>0.0</td>\n",
              "      <td>1.0</td>\n",
              "      <td>0.0</td>\n",
              "      <td>1.0</td>\n",
              "      <td>1.0</td>\n",
              "      <td>1.0</td>\n",
              "      <td>0.0</td>\n",
              "      <td>0.0</td>\n",
              "      <td>0.0</td>\n",
              "      <td>1.0</td>\n",
              "      <td>1.0</td>\n",
              "      <td>1.0</td>\n",
              "      <td>1.0</td>\n",
              "      <td>1.0</td>\n",
              "      <td>0.0</td>\n",
              "      <td>0.0</td>\n",
              "    </tr>\n",
              "  </tbody>\n",
              "</table>\n",
              "</div>"
            ],
            "text/plain": [
              "          party  handicapped-infants  ...  duty-free  south-africa\n",
              "280    democrat                  0.0  ...        0.0           1.0\n",
              "78     democrat                  1.0  ...        0.0           1.0\n",
              "113  republican                  0.0  ...        0.0           0.0\n",
              "253  republican                  0.0  ...        0.0           1.0\n",
              "324  republican                  0.0  ...        0.0           0.0\n",
              "327  republican                  0.0  ...        0.0           1.0\n",
              "291    democrat                  1.0  ...        0.0           1.0\n",
              "82   republican                  0.0  ...        0.0           1.0\n",
              "365    democrat                  0.0  ...        0.0           0.0\n",
              "401  republican                  0.0  ...        0.0           0.0\n",
              "\n",
              "[10 rows x 17 columns]"
            ]
          },
          "metadata": {
            "tags": []
          },
          "execution_count": 86
        }
      ]
    },
    {
      "cell_type": "markdown",
      "metadata": {
        "colab_type": "text",
        "id": "FMhDKOFND0qY"
      },
      "source": [
        "## Student's T Test\n",
        "\n",
        ">Assuming data come from a Normal distribution, the t test provides a way to test whether the sample mean (that is the mean calculated from the data) is a good estimate of the population mean. \n",
        "\n",
        "The derivation of the t-distribution was first published in 1908 by William Gosset while working for the Guinness Brewery in Dublin. Due to proprietary issues, he had to publish under a pseudonym, and so he used the name Student.\n",
        "\n",
        "The t-distribution is essentially a distribution of means of normaly distributed data. When we use a t-statistic, we are  checking that a mean falls within a certain $\\alpha$ probability of the mean of means."
      ]
    },
    {
      "cell_type": "markdown",
      "metadata": {
        "colab_type": "text",
        "id": "wiq83guLcuAE"
      },
      "source": [
        "# Resources\n",
        "\n",
        "- https://homepage.divms.uiowa.edu/~mbognar/applets/t.html\n",
        "- https://rpsychologist.com/d3/tdist/\n",
        "- https://gallery.shinyapps.io/tdist/\n",
        "- https://en.wikipedia.org/wiki/Standard_deviation#Sample_standard_deviation_of_metabolic_rate_of_northern_fulmars\n",
        "- https://www.khanacademy.org/math/ap-statistics/two-sample-inference/two-sample-t-test-means/v/two-sample-t-test-for-difference-of-means"
      ]
    }
  ]
}