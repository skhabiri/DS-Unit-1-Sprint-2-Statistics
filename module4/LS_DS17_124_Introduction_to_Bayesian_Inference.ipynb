{
  "nbformat": 4,
  "nbformat_minor": 0,
  "metadata": {
    "colab": {
      "name": "LS_DS17_124_Introduction_to_Bayesian_Inference.ipynb",
      "provenance": [],
      "collapsed_sections": [],
      "include_colab_link": true
    },
    "kernelspec": {
      "name": "python3",
      "display_name": "Python 3"
    }
  },
  "cells": [
    {
      "cell_type": "markdown",
      "metadata": {
        "id": "view-in-github",
        "colab_type": "text"
      },
      "source": [
        "<a href=\"https://colab.research.google.com/github/skhabiri/DS-Unit-1-Sprint-2-Statistics/blob/master/module4/LS_DS17_124_Introduction_to_Bayesian_Inference.ipynb\" target=\"_parent\"><img src=\"https://colab.research.google.com/assets/colab-badge.svg\" alt=\"Open In Colab\"/></a>"
      ]
    },
    {
      "cell_type": "markdown",
      "metadata": {
        "id": "H7OLbevlbd_Z",
        "colab_type": "text"
      },
      "source": [
        "# Lambda School Data Science Module 124\n",
        "\n",
        "## Introduction to Bayesian Inference\n",
        "\n",
        "The Monty Hall Problem: one door has a car and two doos have goats. You pick door 1. Monty won't tell you any info about door 1, but opens one of the doors with goat. What is the probability of door 2 to be the car if you can change your choice? P(2C|3G)=P(3G|2C)*P(2C)/P(3G)=(1*1/3)/(2/3)=1/2\n",
        "In other word 1 was picked when the probability of being car was 1/3. But given the information given by 3, the probability of 2 being car is 1/2 as we now know that one of them is car and the other is goat. When 1 was selected the chance of that being car was 1/3, and remains the same till it's revealed \n",
        "\n",
        "![The Monty Hall Problem](https://upload.wikimedia.org/wikipedia/commons/thumb/3/3f/Monty_open_door.svg/1200px-Monty_open_door.svg.png)\n",
        "\n",
        "!['Detector! What would the Bayesian statistician say if I asked him whether the--' [roll] 'I AM A NEUTRINO DETECTOR, NOT A LABYRINTH GUARD. SERIOUSLY, DID YOUR BRAIN FALL OUT?' [roll] '... yes.'](https://imgs.xkcd.com/comics/frequentists_vs_bayesians.png)\n",
        "\n",
        "*[XKCD 1132](https://www.xkcd.com/1132/)*\n"
      ]
    },
    {
      "cell_type": "markdown",
      "metadata": {
        "id": "6np-o0Q_nu_C",
        "colab_type": "text"
      },
      "source": [
        "Say you have a quantity of interest: 𝜃.\n",
        "\n",
        "The prior is a probability distribution that represents your uncertainty over 𝜃 **before** you have sampled any data and attempted to estimate it - usually denoted 𝜋(𝜃).\n",
        "The posterior is a probability distribution representing your uncertainty over 𝜃 **after** you have sampled data - denoted 𝜋(𝜃|𝑋). It is a conditional distribution because it conditions on the observed data.\n",
        "\n",
        "From Bayes' theorem we relate the two:\n",
        "\n",
        "𝜋(𝜃|𝑋)=(𝑓(𝑋|𝜃)𝜋(𝜃)) / (∑𝜃𝑖𝑓(𝑋|𝜃𝑖)𝜋(𝜃𝑖))\n",
        "\n",
        "Taking a step back, we widely accept that the process of having beliefs about the world, interacting with it, and then updating these beliefs is a fundamental component of learning.\n",
        "\n",
        "Well, computing the posterior from the prior with Bayes' theorem is simply a mathematical formulation of updating your beliefs. "
      ]
    },
    {
      "cell_type": "markdown",
      "metadata": {
        "id": "sZxMWIopw5QD",
        "colab_type": "text"
      },
      "source": [
        "The Bayesian is subjective and uses a priori beliefs to define a prior probability distribution on the possible values of the unknown parameters. ... The frequentist see probability as something that has to do with a limiting frequency based on an observed proportion."
      ]
    },
    {
      "cell_type": "markdown",
      "metadata": {
        "id": "3mz8p08BsN6p",
        "colab_type": "text"
      },
      "source": [
        "## Prepare - Bayes' Theorem and the Bayesian mindset\n",
        "\n",
        "Bayes' theorem possesses a near-mythical quality - a bit of math that somehow magically evaluates a situation. But this mythicalness has more to do with its reputation and advanced applications than the actual core of it - deriving it is actually remarkably straightforward."
      ]
    },
    {
      "cell_type": "markdown",
      "metadata": {
        "id": "Fa-jzYp9i8La",
        "colab_type": "text"
      },
      "source": [
        "### The Law of Total Probability\n",
        "\n",
        "By definition, the total probability of all outcomes (events) if some variable (event space) $A$ is sum of all $A_n$. That is:\n",
        "\n",
        "$$P(A) = \\sum_n P(A_n)$$\n",
        "\n",
        "The law of total probability takes this further, considering two variables ($A$ and $B$) and relating their marginal probabilities (their likelihoods considered independently, without reference to one another) and their conditional probabilities (their likelihoods considered jointly). A marginal probability is simply notated as e.g. $P(A)$, while a conditional probability is notated $P(A|B)$, which reads \"probability of $A$ *given* $B$\".\n",
        "\n",
        "The law of total probability states:\n",
        "\n",
        "$$P(A) = \\sum_n P(A | B_n) P(B_n)$$\n",
        "\n",
        "In other words - the total probability of $A$ is equal to the sum of the conditional probability of $A$ on any given event $B_n$ times the probability of that event $B_n$, and summed over all possible events in $B$."
      ]
    },
    {
      "cell_type": "markdown",
      "metadata": {
        "id": "GhycNr-Sbeie",
        "colab_type": "text"
      },
      "source": [
        "\n",
        "\n",
        "\n",
        "\n",
        "### The Law of Conditional Probability\n",
        "\n",
        "What's the probability of something conditioned on something else? To determine this we have to go back to set theory and think about the intersection of sets:\n",
        "\n",
        "The formula for actual calculation:\n",
        "\n",
        "$$P(A|B) = \\frac{P(A \\cap B)}{P(B)}$$\n",
        "\n",
        "![Visualization of set intersection](https://upload.wikimedia.org/wikipedia/commons/9/99/Venn0001.svg)\n",
        "\n",
        "Think of the overall rectangle as the whole probability space, $A$ as the left circle, $B$ as the right circle, and their intersection as the red area. Try to visualize the ratio being described in the above formula, and how it is different from just the $P(A)$ (not conditioned on $B$).\n",
        "\n",
        "We can see how this relates back to the law of total probability - multiply both sides by $P(B)$ and you get $P(A|B)P(B) = P(A \\cap B)$ - replaced back into the law of total probability we get $P(A) = \\sum_n P(A \\cap B_n)$.\n",
        "\n",
        "This may not seem like an improvement at first, but try to relate it back to the above picture - if you think of sets as physical objects, we're saying that the total probability of $A$ given $B$ is all the little pieces of it intersected with $B$, added together. The conditional probability is then just that again, but divided by the probability of $B$ itself happening in the first place.\n"
      ]
    },
    {
      "cell_type": "markdown",
      "metadata": {
        "id": "hi45SXVyi_Wt",
        "colab_type": "text"
      },
      "source": [
        "### Bayes Theorem\n",
        "\n",
        "Here is is, the seemingly magic tool:\n",
        "\n",
        "$$P(A|B) = \\frac{P(B|A)P(A)}{P(B)}$$\n",
        "\n",
        "In words - the probability of $A$ conditioned on $B$ is the probability of $B$ conditioned on $A$, times the probability of $A$ and divided by the probability of $B$. These unconditioned probabilities are referred to as \"prior beliefs\", and the conditioned probabilities as \"updated.\"\n",
        "\n",
        "Why is this important? Scroll back up to the XKCD example - the Bayesian statistician draws a less absurd conclusion because their prior belief in the likelihood that the sun will go nova is extremely low. So, even when updated based on evidence from a detector that is $35/36 = 0.972$ accurate, the prior belief doesn't shift enough to change their overall opinion. detector tells truth with 35/36 chance. \n",
        "\n",
        "* Basian's mind P(Nova|detector:yes)= P(detector:yes|Nova)*P(Nova)/P(detector:yes), while P(Nova) << 1 (Prior probability)\n",
        "\n",
        "* Frequentist mind: P(Nova)=1-1/36\n",
        "\n",
        "### Using Bayes Theorem Iteratively (repeated testing)\n",
        "\n",
        "This example comes from [Wikipedia](https://en.wikipedia.org/wiki/Bayes%27_theorem)\n",
        "\n",
        "There are many ways to apply Bayes' theorem - one less absurd example is to apply it to drug tests. You may think that a drug test that is 0.99% accurate for true positives (detecting somebody who is a user) is pretty good, but what if it also has 1% false positive rate (indicating somebody is a user when they're not)? And furthermore, the rate of drug use in the population at large (and thus our prior belief) is 1/200.\n",
        "\n",
        "What is the likelihood somebody really is drug user if they test positive? Some may guess it's 98% - the difference between the true positives and the false positives. But we have a prior belief of the background/true rate of drug use. Sounds like a job for Bayes' theorem!\n",
        "\n",
        "![Bayes Theorem Drug Test Example](https://wikimedia.org/api/rest_v1/media/math/render/svg/95c6524a3736c43e4bae139713f3df2392e6eda9)\n",
        "\n",
        "In other words, the likelihood that somebody is a user given they tested positive on a drug test is only 33.2% - probably much lower than you'd guess. This is why, in practice, it's important to use repeated testing to confirm. If we have the same individual who tested positive the first time take the drug test a second time then the posterior probability from our the first test becomes our new prior during the second application, P(User) changes from 0.005 to 0.332.\n",
        " What is the probability that a person is a drug user after two positive drug tests in a row?\n",
        "\n",
        "Bayes' theorem has been relevant in court cases where proper consideration of evidence was important. Whether it's a drug test, breathalyzer, pregnancy test, doctor's diagnosis, or neutrino detector, we have to take into account **both** the false positive rate and our prior probability in order to calculate the correct conditional probability."
      ]
    },
    {
      "cell_type": "code",
      "metadata": {
        "id": "wqGNOCoUSm1b",
        "colab_type": "code",
        "outputId": "524ab18c-b8f7-4a94-a2f0-dabcd69814e0",
        "colab": {
          "base_uri": "https://localhost:8080/",
          "height": 34
        }
      },
      "source": [
        "# True Positive Rate\n",
        "p_pos_user = 0.99\n",
        "# Prior Probability\n",
        "p_user = 1/10000\n",
        "# False Positive Rate\n",
        "p_pos_non_user = .01\n",
        "# Complement Prior\n",
        "p_non_user = 1 - p_user\n",
        "\n",
        "numerator = p_pos_user*p_user\n",
        "denominator = p_pos_user*p_user + p_pos_non_user*p_non_user\n",
        "\n",
        "posterior_probability = numerator / denominator\n",
        "\n",
        "posterior_probability"
      ],
      "execution_count": 3,
      "outputs": [
        {
          "output_type": "execute_result",
          "data": {
            "text/plain": [
              "0.00980392156862745"
            ]
          },
          "metadata": {
            "tags": []
          },
          "execution_count": 3
        }
      ]
    },
    {
      "cell_type": "code",
      "metadata": {
        "id": "5Bm-284xUvWH",
        "colab_type": "code",
        "outputId": "0cd4d370-1c9a-49ae-ca50-d3f5d236915e",
        "colab": {
          "base_uri": "https://localhost:8080/",
          "height": 34
        }
      },
      "source": [
        "# For the second test our prior changes\n",
        "# posterior from the previous test, will be our new prior\n",
        "\n",
        "# Prior Probability\n",
        "''' Since previous test determined that the subject is a user with \n",
        "certain probability, then we can say the probability of the subject to be a user is that much for the second test'''\n",
        "p_user = posterior_probability\n",
        "p_non_user = 1 - p_user\n",
        "\n",
        "numerator = p_pos_user*p_user\n",
        "denominator = p_pos_user*p_user + p_pos_non_user*p_non_user\n",
        "\n",
        "posterior_probability = numerator / denominator\n",
        "\n",
        "posterior_probability"
      ],
      "execution_count": 4,
      "outputs": [
        {
          "output_type": "execute_result",
          "data": {
            "text/plain": [
              "0.49500000000000005"
            ]
          },
          "metadata": {
            "tags": []
          },
          "execution_count": 4
        }
      ]
    },
    {
      "cell_type": "code",
      "metadata": {
        "id": "8WJtXzdJVl7c",
        "colab_type": "code",
        "outputId": "d318790c-0a28-4d8d-e129-d26d0e0d497d",
        "colab": {
          "base_uri": "https://localhost:8080/",
          "height": 34
        }
      },
      "source": [
        "# Repeat the test for the third time, with updated prior (or marginal probability):\n",
        "\n",
        "p_user = posterior_probability\n",
        "p_non_user = 1 - p_user\n",
        "\n",
        "numerator = p_pos_user*p_user\n",
        "denominator = p_pos_user*p_user + p_pos_non_user*p_non_user\n",
        "\n",
        "posterior_probability = numerator / denominator\n",
        "\n",
        "posterior_probability"
      ],
      "execution_count": 5,
      "outputs": [
        {
          "output_type": "execute_result",
          "data": {
            "text/plain": [
              "0.9898000403958797"
            ]
          },
          "metadata": {
            "tags": []
          },
          "execution_count": 5
        }
      ]
    },
    {
      "cell_type": "code",
      "metadata": {
        "id": "8rI-wuPdVoaL",
        "colab_type": "code",
        "outputId": "b903bb34-27df-444f-f473-0dba4929cf98",
        "colab": {
          "base_uri": "https://localhost:8080/",
          "height": 34
        }
      },
      "source": [
        "# Repeat the test for the 4th time, with updated prior (or marginal probability):\n",
        "''' Irrespective of the first assumption for prior probability, iteration improves\n",
        "the accuracy of the results '''\n",
        "\n",
        "\n",
        "p_user = posterior_probability\n",
        "p_non_user = 1 - p_user\n",
        "\n",
        "numerator = p_pos_user*p_user\n",
        "denominator = p_pos_user*p_user + p_pos_non_user*p_non_user\n",
        "\n",
        "posterior_probability = numerator / denominator\n",
        "\n",
        "posterior_probability"
      ],
      "execution_count": 0,
      "outputs": [
        {
          "output_type": "execute_result",
          "data": {
            "text/plain": [
              "0.999001008981029"
            ]
          },
          "metadata": {
            "tags": []
          },
          "execution_count": 7
        }
      ]
    },
    {
      "cell_type": "markdown",
      "metadata": {
        "id": "htI3DGvDsRJF",
        "colab_type": "text"
      },
      "source": [
        "## Live Lecture - Deriving Bayes' Theorem, Calculating Bayesian Confidence"
      ]
    },
    {
      "cell_type": "markdown",
      "metadata": {
        "id": "moIJNQ-nbfe_",
        "colab_type": "text"
      },
      "source": [
        "Notice that $P(A|B)$ appears in the above laws - in Bayesian terms, this is the belief in $A$ updated for the evidence $B$. So all we need to do is solve for this term to derive Bayes' theorem. Let's do it together!"
      ]
    },
    {
      "cell_type": "code",
      "metadata": {
        "id": "ke-5EqJI0Tsn",
        "colab_type": "code",
        "outputId": "64346f05-80fd-4067-9e60-2733a52eee75",
        "colab": {
          "base_uri": "https://localhost:8080/",
          "height": 34
        }
      },
      "source": [
        "# Activity 2 - Use SciPy to calculate Bayesian confidence intervals\n",
        "# https://docs.scipy.org/doc/scipy/reference/generated/scipy.stats.bayes_mvs.html#scipy.stats.bayes_mvs\n",
        "import numpy as np\n",
        "from scipy import stats\n",
        "\n",
        "coinflips = np.random.binomial(n=1, p=.5, size=20)\n",
        "\n",
        "coinflips"
      ],
      "execution_count": 8,
      "outputs": [
        {
          "output_type": "execute_result",
          "data": {
            "text/plain": [
              "array([1, 0, 1, 1, 0, 1, 0, 0, 0, 0, 0, 1, 1, 1, 1, 1, 1, 0, 0, 1])"
            ]
          },
          "metadata": {
            "tags": []
          },
          "execution_count": 8
        }
      ]
    },
    {
      "cell_type": "code",
      "metadata": {
        "id": "g8FDpCQ8ZJu3",
        "colab_type": "code",
        "outputId": "4c156643-af40-44e6-dd76-b5d22f002978",
        "colab": {
          "base_uri": "https://localhost:8080/",
          "height": 34
        }
      },
      "source": [
        "def confidence_interval(data, confidence=.95):\n",
        "  # Make sure we're working with a numpy array\n",
        "  sample = np.array(data)\n",
        "  # Sample Mean\n",
        "  x_bar = sample.mean()\n",
        "  # Sample Standard Deviation\n",
        "  s = np.std(sample, ddof=1)\n",
        "  # Sample Size\n",
        "  n = len(sample)\n",
        "  # T statistic - correspond to our confidence level, and our degrees of freedom\n",
        "  t = stats.t.ppf((1+confidence) / 2, n-1)\n",
        "  # Standard Error\n",
        "  std_err = s / np.sqrt(n)\n",
        "  # Margin of Error\n",
        "  moe = std_err * t\n",
        "  # Lower and Upper Bound\n",
        "  upper = x_bar + moe\n",
        "  lower = x_bar - moe\n",
        "\n",
        "  return (lower, x_bar, upper)\n",
        "\n",
        "confidence_interval(coinflips)"
      ],
      "execution_count": 9,
      "outputs": [
        {
          "output_type": "execute_result",
          "data": {
            "text/plain": [
              "(0.31111712307712147, 0.55, 0.7888828769228786)"
            ]
          },
          "metadata": {
            "tags": []
          },
          "execution_count": 9
        }
      ]
    },
    {
      "cell_type": "code",
      "metadata": {
        "id": "UDCamFktZReo",
        "colab_type": "code",
        "outputId": "74312ed7-f377-4d79-fce5-4e3fcabab25b",
        "colab": {
          "base_uri": "https://localhost:8080/",
          "height": 34
        }
      },
      "source": [
        "mean_confidence_interval , _,_ = stats.bayes_mvs(coinflips, alpha=.95)\n",
        "\n",
        "mean_confidence_interval"
      ],
      "execution_count": 10,
      "outputs": [
        {
          "output_type": "execute_result",
          "data": {
            "text/plain": [
              "Mean(statistic=0.55, minmax=(0.31111712307712147, 0.7888828769228786))"
            ]
          },
          "metadata": {
            "tags": []
          },
          "execution_count": 10
        }
      ]
    },
    {
      "cell_type": "code",
      "metadata": {
        "id": "ocNNgN1WB8pg",
        "colab_type": "code",
        "colab": {
          "base_uri": "https://localhost:8080/",
          "height": 70
        },
        "outputId": "ebb6ab0f-f37e-47f0-c2ca-c860f3768015"
      },
      "source": [
        "stats.bayes_mvs(coinflips, alpha=.95)"
      ],
      "execution_count": 11,
      "outputs": [
        {
          "output_type": "execute_result",
          "data": {
            "text/plain": [
              "(Mean(statistic=0.55, minmax=(0.31111712307712147, 0.7888828769228786)),\n",
              " Variance(statistic=0.2911764705882353, minmax=(0.15067425880771784, 0.5557728445246349)),\n",
              " Std_dev(statistic=0.5317348479252392, minmax=(0.3881678229937637, 0.7455017401218021)))"
            ]
          },
          "metadata": {
            "tags": []
          },
          "execution_count": 11
        }
      ]
    },
    {
      "cell_type": "markdown",
      "metadata": {
        "id": "uWgWjp3PQ3Sq",
        "colab_type": "text"
      },
      "source": [
        "## Resources"
      ]
    },
    {
      "cell_type": "markdown",
      "metadata": {
        "id": "QRgHqmYIQ9qn",
        "colab_type": "text"
      },
      "source": [
        "- [Worked example of Bayes rule calculation](https://en.wikipedia.org/wiki/Bayes'_theorem#Examples) (helpful as it fully breaks out the denominator)\n",
        "- [Source code for mvsdist in scipy](https://github.com/scipy/scipy/blob/90534919e139d2a81c24bf08341734ff41a3db12/scipy/stats/morestats.py#L139)"
      ]
    }
  ]
}