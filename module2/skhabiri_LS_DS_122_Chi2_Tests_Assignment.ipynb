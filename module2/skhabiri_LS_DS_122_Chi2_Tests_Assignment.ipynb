{
  "nbformat": 4,
  "nbformat_minor": 0,
  "metadata": {
    "colab": {
      "name": "skhabiri_LS_DS_122_Chi2_Tests_Assignment.ipynb",
      "provenance": [],
      "collapsed_sections": [],
      "include_colab_link": true
    },
    "kernelspec": {
      "name": "python3",
      "display_name": "Python 3"
    }
  },
  "cells": [
    {
      "cell_type": "markdown",
      "metadata": {
        "id": "view-in-github",
        "colab_type": "text"
      },
      "source": [
        "<a href=\"https://colab.research.google.com/github/skhabiri/DS-Unit-1-Sprint-2-Statistics/blob/master/module2/skhabiri_LS_DS_122_Chi2_Tests_Assignment.ipynb\" target=\"_parent\"><img src=\"https://colab.research.google.com/assets/colab-badge.svg\" alt=\"Open In Colab\"/></a>"
      ]
    },
    {
      "cell_type": "markdown",
      "metadata": {
        "id": "11OzdxWTM7UR",
        "colab_type": "text"
      },
      "source": [
        "## Assignment - Practice Chi^2 Tests\n",
        "\n",
        "Use the following dataset relating to math scores of students in two different Portugese schools:\n",
        "\n",
        "<https://archive.ics.uci.edu/ml/datasets/Student+Performance>\n",
        "\n",
        "### 1) Load the dataset specifically relating to math scores as a new dataframe.\n",
        "\n",
        "There are two datasets in the `student.zip` file, make sure you use `student-mat.csv`.\n"
      ]
    },
    {
      "cell_type": "code",
      "metadata": {
        "id": "UQwvrhn7m3Mn",
        "colab_type": "code",
        "colab": {
          "base_uri": "https://localhost:8080/",
          "height": 520
        },
        "outputId": "4b7c3e60-21b2-4821-909e-90031e84b55e"
      },
      "source": [
        "# YOUR WORK HERE\n",
        "!wget https://archive.ics.uci.edu/ml/machine-learning-databases/00320/student.zip\n",
        "!unzip student.zip\n",
        "from scipy import stats\n",
        "import pandas as pd\n",
        "df = pd.read_csv('student-mat.csv', sep=';')\n",
        "\n",
        "print(df.shape)\n",
        "df.head()"
      ],
      "execution_count": 1,
      "outputs": [
        {
          "output_type": "stream",
          "text": [
            "--2020-06-10 01:22:09--  https://archive.ics.uci.edu/ml/machine-learning-databases/00320/student.zip\n",
            "Resolving archive.ics.uci.edu (archive.ics.uci.edu)... 128.195.10.252\n",
            "Connecting to archive.ics.uci.edu (archive.ics.uci.edu)|128.195.10.252|:443... connected.\n",
            "HTTP request sent, awaiting response... 200 OK\n",
            "Length: 20478 (20K) [application/x-httpd-php]\n",
            "Saving to: ‘student.zip’\n",
            "\n",
            "student.zip         100%[===================>]  20.00K  --.-KB/s    in 0.06s   \n",
            "\n",
            "2020-06-10 01:22:09 (321 KB/s) - ‘student.zip’ saved [20478/20478]\n",
            "\n",
            "Archive:  student.zip\n",
            "  inflating: student-mat.csv         \n",
            "  inflating: student-por.csv         \n",
            "  inflating: student-merge.R         \n",
            "  inflating: student.txt             \n",
            "(395, 33)\n"
          ],
          "name": "stdout"
        },
        {
          "output_type": "execute_result",
          "data": {
            "text/html": [
              "<div>\n",
              "<style scoped>\n",
              "    .dataframe tbody tr th:only-of-type {\n",
              "        vertical-align: middle;\n",
              "    }\n",
              "\n",
              "    .dataframe tbody tr th {\n",
              "        vertical-align: top;\n",
              "    }\n",
              "\n",
              "    .dataframe thead th {\n",
              "        text-align: right;\n",
              "    }\n",
              "</style>\n",
              "<table border=\"1\" class=\"dataframe\">\n",
              "  <thead>\n",
              "    <tr style=\"text-align: right;\">\n",
              "      <th></th>\n",
              "      <th>school</th>\n",
              "      <th>sex</th>\n",
              "      <th>age</th>\n",
              "      <th>address</th>\n",
              "      <th>famsize</th>\n",
              "      <th>Pstatus</th>\n",
              "      <th>Medu</th>\n",
              "      <th>Fedu</th>\n",
              "      <th>Mjob</th>\n",
              "      <th>Fjob</th>\n",
              "      <th>reason</th>\n",
              "      <th>guardian</th>\n",
              "      <th>traveltime</th>\n",
              "      <th>studytime</th>\n",
              "      <th>failures</th>\n",
              "      <th>schoolsup</th>\n",
              "      <th>famsup</th>\n",
              "      <th>paid</th>\n",
              "      <th>activities</th>\n",
              "      <th>nursery</th>\n",
              "      <th>higher</th>\n",
              "      <th>internet</th>\n",
              "      <th>romantic</th>\n",
              "      <th>famrel</th>\n",
              "      <th>freetime</th>\n",
              "      <th>goout</th>\n",
              "      <th>Dalc</th>\n",
              "      <th>Walc</th>\n",
              "      <th>health</th>\n",
              "      <th>absences</th>\n",
              "      <th>G1</th>\n",
              "      <th>G2</th>\n",
              "      <th>G3</th>\n",
              "    </tr>\n",
              "  </thead>\n",
              "  <tbody>\n",
              "    <tr>\n",
              "      <th>0</th>\n",
              "      <td>GP</td>\n",
              "      <td>F</td>\n",
              "      <td>18</td>\n",
              "      <td>U</td>\n",
              "      <td>GT3</td>\n",
              "      <td>A</td>\n",
              "      <td>4</td>\n",
              "      <td>4</td>\n",
              "      <td>at_home</td>\n",
              "      <td>teacher</td>\n",
              "      <td>course</td>\n",
              "      <td>mother</td>\n",
              "      <td>2</td>\n",
              "      <td>2</td>\n",
              "      <td>0</td>\n",
              "      <td>yes</td>\n",
              "      <td>no</td>\n",
              "      <td>no</td>\n",
              "      <td>no</td>\n",
              "      <td>yes</td>\n",
              "      <td>yes</td>\n",
              "      <td>no</td>\n",
              "      <td>no</td>\n",
              "      <td>4</td>\n",
              "      <td>3</td>\n",
              "      <td>4</td>\n",
              "      <td>1</td>\n",
              "      <td>1</td>\n",
              "      <td>3</td>\n",
              "      <td>6</td>\n",
              "      <td>5</td>\n",
              "      <td>6</td>\n",
              "      <td>6</td>\n",
              "    </tr>\n",
              "    <tr>\n",
              "      <th>1</th>\n",
              "      <td>GP</td>\n",
              "      <td>F</td>\n",
              "      <td>17</td>\n",
              "      <td>U</td>\n",
              "      <td>GT3</td>\n",
              "      <td>T</td>\n",
              "      <td>1</td>\n",
              "      <td>1</td>\n",
              "      <td>at_home</td>\n",
              "      <td>other</td>\n",
              "      <td>course</td>\n",
              "      <td>father</td>\n",
              "      <td>1</td>\n",
              "      <td>2</td>\n",
              "      <td>0</td>\n",
              "      <td>no</td>\n",
              "      <td>yes</td>\n",
              "      <td>no</td>\n",
              "      <td>no</td>\n",
              "      <td>no</td>\n",
              "      <td>yes</td>\n",
              "      <td>yes</td>\n",
              "      <td>no</td>\n",
              "      <td>5</td>\n",
              "      <td>3</td>\n",
              "      <td>3</td>\n",
              "      <td>1</td>\n",
              "      <td>1</td>\n",
              "      <td>3</td>\n",
              "      <td>4</td>\n",
              "      <td>5</td>\n",
              "      <td>5</td>\n",
              "      <td>6</td>\n",
              "    </tr>\n",
              "    <tr>\n",
              "      <th>2</th>\n",
              "      <td>GP</td>\n",
              "      <td>F</td>\n",
              "      <td>15</td>\n",
              "      <td>U</td>\n",
              "      <td>LE3</td>\n",
              "      <td>T</td>\n",
              "      <td>1</td>\n",
              "      <td>1</td>\n",
              "      <td>at_home</td>\n",
              "      <td>other</td>\n",
              "      <td>other</td>\n",
              "      <td>mother</td>\n",
              "      <td>1</td>\n",
              "      <td>2</td>\n",
              "      <td>3</td>\n",
              "      <td>yes</td>\n",
              "      <td>no</td>\n",
              "      <td>yes</td>\n",
              "      <td>no</td>\n",
              "      <td>yes</td>\n",
              "      <td>yes</td>\n",
              "      <td>yes</td>\n",
              "      <td>no</td>\n",
              "      <td>4</td>\n",
              "      <td>3</td>\n",
              "      <td>2</td>\n",
              "      <td>2</td>\n",
              "      <td>3</td>\n",
              "      <td>3</td>\n",
              "      <td>10</td>\n",
              "      <td>7</td>\n",
              "      <td>8</td>\n",
              "      <td>10</td>\n",
              "    </tr>\n",
              "    <tr>\n",
              "      <th>3</th>\n",
              "      <td>GP</td>\n",
              "      <td>F</td>\n",
              "      <td>15</td>\n",
              "      <td>U</td>\n",
              "      <td>GT3</td>\n",
              "      <td>T</td>\n",
              "      <td>4</td>\n",
              "      <td>2</td>\n",
              "      <td>health</td>\n",
              "      <td>services</td>\n",
              "      <td>home</td>\n",
              "      <td>mother</td>\n",
              "      <td>1</td>\n",
              "      <td>3</td>\n",
              "      <td>0</td>\n",
              "      <td>no</td>\n",
              "      <td>yes</td>\n",
              "      <td>yes</td>\n",
              "      <td>yes</td>\n",
              "      <td>yes</td>\n",
              "      <td>yes</td>\n",
              "      <td>yes</td>\n",
              "      <td>yes</td>\n",
              "      <td>3</td>\n",
              "      <td>2</td>\n",
              "      <td>2</td>\n",
              "      <td>1</td>\n",
              "      <td>1</td>\n",
              "      <td>5</td>\n",
              "      <td>2</td>\n",
              "      <td>15</td>\n",
              "      <td>14</td>\n",
              "      <td>15</td>\n",
              "    </tr>\n",
              "    <tr>\n",
              "      <th>4</th>\n",
              "      <td>GP</td>\n",
              "      <td>F</td>\n",
              "      <td>16</td>\n",
              "      <td>U</td>\n",
              "      <td>GT3</td>\n",
              "      <td>T</td>\n",
              "      <td>3</td>\n",
              "      <td>3</td>\n",
              "      <td>other</td>\n",
              "      <td>other</td>\n",
              "      <td>home</td>\n",
              "      <td>father</td>\n",
              "      <td>1</td>\n",
              "      <td>2</td>\n",
              "      <td>0</td>\n",
              "      <td>no</td>\n",
              "      <td>yes</td>\n",
              "      <td>yes</td>\n",
              "      <td>no</td>\n",
              "      <td>yes</td>\n",
              "      <td>yes</td>\n",
              "      <td>no</td>\n",
              "      <td>no</td>\n",
              "      <td>4</td>\n",
              "      <td>3</td>\n",
              "      <td>2</td>\n",
              "      <td>1</td>\n",
              "      <td>2</td>\n",
              "      <td>5</td>\n",
              "      <td>4</td>\n",
              "      <td>6</td>\n",
              "      <td>10</td>\n",
              "      <td>10</td>\n",
              "    </tr>\n",
              "  </tbody>\n",
              "</table>\n",
              "</div>"
            ],
            "text/plain": [
              "  school sex  age address famsize Pstatus  ...  Walc  health absences  G1  G2  G3\n",
              "0     GP   F   18       U     GT3       A  ...     1       3        6   5   6   6\n",
              "1     GP   F   17       U     GT3       T  ...     1       3        4   5   5   6\n",
              "2     GP   F   15       U     LE3       T  ...     3       3       10   7   8  10\n",
              "3     GP   F   15       U     GT3       T  ...     1       5        2  15  14  15\n",
              "4     GP   F   16       U     GT3       T  ...     2       5        4   6  10  10\n",
              "\n",
              "[5 rows x 33 columns]"
            ]
          },
          "metadata": {
            "tags": []
          },
          "execution_count": 1
        }
      ]
    },
    {
      "cell_type": "markdown",
      "metadata": {
        "id": "DGkeuOX-iDE9",
        "colab_type": "text"
      },
      "source": [
        "### 2) Use Chi^2 tests and `stats.chi2_contingency()` to identify:\n",
        " - Two pairs of variables that are dependent (are associated with one another).\n",
        " - Two pairs of variables that are independent (have no significant relationship).\n",
        "\n",
        "Does it make intuitive sense why the variables in these pairs might or might not show a relationship to one another? \n"
      ]
    },
    {
      "cell_type": "code",
      "metadata": {
        "id": "yaUKRXyJTN2E",
        "colab_type": "code",
        "colab": {}
      },
      "source": [
        "# YOUR WORK HERE\n",
        "def mychi2(df, name1, name2, info):\n",
        "  \"\"\" info is a boolean value that prints more information\n",
        "  about the chi2 statistic\"\"\"\n",
        "  \n",
        "  contingency = pd.crosstab(df[name1], df[name2])\n",
        "  chi2, p_value, dof, expected = stats.chi2_contingency(contingency)\n",
        "\n",
        "  if p_value<0.05:\n",
        "    print(\"Null hypothesis for \",name1,\" and \",name2,\" is rejected \\n chi2:\",chi2,\"\\n p_val: \",p_value )\n",
        "  else:\n",
        "    print(\"Null hypothesis for \",name1,\" and \",name2,\" is not rejected \\n chi2:\",chi2,\"\\n p_val: \",p_value )\n",
        "  \n",
        "  if info:\n",
        "    print(\"************\")\n",
        "    print(df[name1].value_counts().sort_index())\n",
        "    print(df[name2].value_counts().sort_index())\n",
        "    print(\"chi2 statistic\", chi2)\n",
        "    print(\"p value\", p_value)\n",
        "    print(\"degrees of freedom\",dof)\n",
        "    print(\"expected frequencies table\", expected)\n",
        "    print(\" Here is the cross table: \\n\")\n",
        "    return contingency\n"
      ],
      "execution_count": 0,
      "outputs": []
    },
    {
      "cell_type": "code",
      "metadata": {
        "id": "7HMslfZsf-dA",
        "colab_type": "code",
        "colab": {
          "base_uri": "https://localhost:8080/",
          "height": 1000
        },
        "outputId": "6b59dacc-9452-4542-ae66-36b0402cd585"
      },
      "source": [
        "chi2_labels = [\"sex\",\"age\",\"famsize\",\"studytime\",\"failures\"]\n",
        "for label_i in chi2_labels:\n",
        "  for label_j in chi2_labels:\n",
        "    mychi2(df,label_i,label_j,False)\n"
      ],
      "execution_count": 3,
      "outputs": [
        {
          "output_type": "stream",
          "text": [
            "Null hypothesis for  sex  and  sex  is rejected \n",
            " chi2: 390.9988461440834 \n",
            " p_val:  5.016813439124192e-87\n",
            "Null hypothesis for  sex  and  age  is not rejected \n",
            " chi2: 5.99460281380294 \n",
            " p_val:  0.5403796955381378\n",
            "Null hypothesis for  sex  and  famsize  is not rejected \n",
            " chi2: 2.8048454063998163 \n",
            " p_val:  0.09397990309173032\n",
            "Null hypothesis for  sex  and  studytime  is rejected \n",
            " chi2: 50.634037705651764 \n",
            " p_val:  5.854045926336989e-11\n",
            "Null hypothesis for  sex  and  failures  is not rejected \n",
            " chi2: 3.5302645725647808 \n",
            " p_val:  0.31685806856495097\n",
            "Null hypothesis for  age  and  sex  is not rejected \n",
            " chi2: 5.99460281380294 \n",
            " p_val:  0.5403796955381378\n",
            "Null hypothesis for  age  and  age  is rejected \n",
            " chi2: 2765.0 \n",
            " p_val:  0.0\n",
            "Null hypothesis for  age  and  famsize  is not rejected \n",
            " chi2: 3.3427362331429626 \n",
            " p_val:  0.851591182655544\n",
            "Null hypothesis for  age  and  studytime  is not rejected \n",
            " chi2: 21.005026189849133 \n",
            " p_val:  0.45863728792691505\n",
            "Null hypothesis for  age  and  failures  is rejected \n",
            " chi2: 144.29903924777085 \n",
            " p_val:  2.1137084383846074e-20\n",
            "Null hypothesis for  famsize  and  sex  is not rejected \n",
            " chi2: 2.8048454063998167 \n",
            " p_val:  0.09397990309173032\n",
            "Null hypothesis for  famsize  and  age  is not rejected \n",
            " chi2: 3.342736233142963 \n",
            " p_val:  0.8515911826555439\n",
            "Null hypothesis for  famsize  and  famsize  is rejected \n",
            " chi2: 390.1444082027002 \n",
            " p_val:  7.699090687946577e-87\n",
            "Null hypothesis for  famsize  and  studytime  is rejected \n",
            " chi2: 11.09435481782051 \n",
            " p_val:  0.011226452773765971\n",
            "Null hypothesis for  famsize  and  failures  is not rejected \n",
            " chi2: 0.5915307886953822 \n",
            " p_val:  0.8983684394401135\n",
            "Null hypothesis for  studytime  and  sex  is rejected \n",
            " chi2: 50.634037705651764 \n",
            " p_val:  5.854045926336989e-11\n",
            "Null hypothesis for  studytime  and  age  is not rejected \n",
            " chi2: 21.005026189849133 \n",
            " p_val:  0.45863728792691505\n",
            "Null hypothesis for  studytime  and  famsize  is rejected \n",
            " chi2: 11.094354817820511 \n",
            " p_val:  0.011226452773765957\n",
            "Null hypothesis for  studytime  and  studytime  is rejected \n",
            " chi2: 1185.0 \n",
            " p_val:  2.0982302999743783e-249\n",
            "Null hypothesis for  studytime  and  failures  is not rejected \n",
            " chi2: 16.211990808685762 \n",
            " p_val:  0.06258448399973988\n",
            "Null hypothesis for  failures  and  sex  is not rejected \n",
            " chi2: 3.5302645725647808 \n",
            " p_val:  0.31685806856495097\n",
            "Null hypothesis for  failures  and  age  is rejected \n",
            " chi2: 144.29903924777085 \n",
            " p_val:  2.1137084383846074e-20\n",
            "Null hypothesis for  failures  and  famsize  is not rejected \n",
            " chi2: 0.5915307886953822 \n",
            " p_val:  0.8983684394401135\n",
            "Null hypothesis for  failures  and  studytime  is not rejected \n",
            " chi2: 16.21199080868576 \n",
            " p_val:  0.06258448399974005\n",
            "Null hypothesis for  failures  and  failures  is rejected \n",
            " chi2: 1185.0 \n",
            " p_val:  2.0982302999743783e-249\n"
          ],
          "name": "stdout"
        }
      ]
    },
    {
      "cell_type": "code",
      "metadata": {
        "id": "pCW77_1RXCYN",
        "colab_type": "code",
        "colab": {
          "base_uri": "https://localhost:8080/",
          "height": 475
        },
        "outputId": "2d101b19-19e5-4b67-c950-c7a7c0f2d069"
      },
      "source": [
        "mychi2(df,\"famsize\",\"studytime\", True)"
      ],
      "execution_count": 4,
      "outputs": [
        {
          "output_type": "stream",
          "text": [
            "Null hypothesis for  famsize  and  studytime  is rejected \n",
            " chi2: 11.09435481782051 \n",
            " p_val:  0.011226452773765971\n",
            "************\n",
            "GT3    281\n",
            "LE3    114\n",
            "Name: famsize, dtype: int64\n",
            "1    105\n",
            "2    198\n",
            "3     65\n",
            "4     27\n",
            "Name: studytime, dtype: int64\n",
            "chi2 statistic 11.09435481782051\n",
            "p value 0.011226452773765971\n",
            "degrees of freedom 3\n",
            "expected frequencies table [[ 74.69620253 140.8556962   46.24050633  19.20759494]\n",
            " [ 30.30379747  57.1443038   18.75949367   7.79240506]]\n",
            " Here is the cross table: \n",
            "\n"
          ],
          "name": "stdout"
        },
        {
          "output_type": "execute_result",
          "data": {
            "text/html": [
              "<div>\n",
              "<style scoped>\n",
              "    .dataframe tbody tr th:only-of-type {\n",
              "        vertical-align: middle;\n",
              "    }\n",
              "\n",
              "    .dataframe tbody tr th {\n",
              "        vertical-align: top;\n",
              "    }\n",
              "\n",
              "    .dataframe thead th {\n",
              "        text-align: right;\n",
              "    }\n",
              "</style>\n",
              "<table border=\"1\" class=\"dataframe\">\n",
              "  <thead>\n",
              "    <tr style=\"text-align: right;\">\n",
              "      <th>studytime</th>\n",
              "      <th>1</th>\n",
              "      <th>2</th>\n",
              "      <th>3</th>\n",
              "      <th>4</th>\n",
              "    </tr>\n",
              "    <tr>\n",
              "      <th>famsize</th>\n",
              "      <th></th>\n",
              "      <th></th>\n",
              "      <th></th>\n",
              "      <th></th>\n",
              "    </tr>\n",
              "  </thead>\n",
              "  <tbody>\n",
              "    <tr>\n",
              "      <th>GT3</th>\n",
              "      <td>74</td>\n",
              "      <td>131</td>\n",
              "      <td>57</td>\n",
              "      <td>19</td>\n",
              "    </tr>\n",
              "    <tr>\n",
              "      <th>LE3</th>\n",
              "      <td>31</td>\n",
              "      <td>67</td>\n",
              "      <td>8</td>\n",
              "      <td>8</td>\n",
              "    </tr>\n",
              "  </tbody>\n",
              "</table>\n",
              "</div>"
            ],
            "text/plain": [
              "studytime   1    2   3   4\n",
              "famsize                   \n",
              "GT3        74  131  57  19\n",
              "LE3        31   67   8   8"
            ]
          },
          "metadata": {
            "tags": []
          },
          "execution_count": 4
        }
      ]
    },
    {
      "cell_type": "code",
      "metadata": {
        "id": "_J-eIR_nhhTb",
        "colab_type": "code",
        "colab": {
          "base_uri": "https://localhost:8080/",
          "height": 475
        },
        "outputId": "6536fec1-c4f1-4ade-857f-807f5f443aa4"
      },
      "source": [
        "mychi2(df,\"sex\",\"failures\",True)"
      ],
      "execution_count": 5,
      "outputs": [
        {
          "output_type": "stream",
          "text": [
            "Null hypothesis for  sex  and  failures  is not rejected \n",
            " chi2: 3.5302645725647808 \n",
            " p_val:  0.31685806856495097\n",
            "************\n",
            "F    208\n",
            "M    187\n",
            "Name: sex, dtype: int64\n",
            "0    312\n",
            "1     50\n",
            "2     17\n",
            "3     16\n",
            "Name: failures, dtype: int64\n",
            "chi2 statistic 3.5302645725647808\n",
            "p value 0.31685806856495097\n",
            "degrees of freedom 3\n",
            "expected frequencies table [[164.29367089  26.32911392   8.95189873   8.42531646]\n",
            " [147.70632911  23.67088608   8.04810127   7.57468354]]\n",
            " Here is the cross table: \n",
            "\n"
          ],
          "name": "stdout"
        },
        {
          "output_type": "execute_result",
          "data": {
            "text/html": [
              "<div>\n",
              "<style scoped>\n",
              "    .dataframe tbody tr th:only-of-type {\n",
              "        vertical-align: middle;\n",
              "    }\n",
              "\n",
              "    .dataframe tbody tr th {\n",
              "        vertical-align: top;\n",
              "    }\n",
              "\n",
              "    .dataframe thead th {\n",
              "        text-align: right;\n",
              "    }\n",
              "</style>\n",
              "<table border=\"1\" class=\"dataframe\">\n",
              "  <thead>\n",
              "    <tr style=\"text-align: right;\">\n",
              "      <th>failures</th>\n",
              "      <th>0</th>\n",
              "      <th>1</th>\n",
              "      <th>2</th>\n",
              "      <th>3</th>\n",
              "    </tr>\n",
              "    <tr>\n",
              "      <th>sex</th>\n",
              "      <th></th>\n",
              "      <th></th>\n",
              "      <th></th>\n",
              "      <th></th>\n",
              "    </tr>\n",
              "  </thead>\n",
              "  <tbody>\n",
              "    <tr>\n",
              "      <th>F</th>\n",
              "      <td>168</td>\n",
              "      <td>23</td>\n",
              "      <td>11</td>\n",
              "      <td>6</td>\n",
              "    </tr>\n",
              "    <tr>\n",
              "      <th>M</th>\n",
              "      <td>144</td>\n",
              "      <td>27</td>\n",
              "      <td>6</td>\n",
              "      <td>10</td>\n",
              "    </tr>\n",
              "  </tbody>\n",
              "</table>\n",
              "</div>"
            ],
            "text/plain": [
              "failures    0   1   2   3\n",
              "sex                      \n",
              "F         168  23  11   6\n",
              "M         144  27   6  10"
            ]
          },
          "metadata": {
            "tags": []
          },
          "execution_count": 5
        }
      ]
    },
    {
      "cell_type": "markdown",
      "metadata": {
        "id": "Tf7XPpBP6YqX",
        "colab_type": "text"
      },
      "source": [
        "### 3) Use NumPy to perform your own chi^2 test \"from scratch\" \n",
        "\n",
        "Pick any of the chi^2 tests that you ran in part 2 and try them on your own. You should get the same results that Scipy got for all four values returned from `chi2_contingency()`"
      ]
    },
    {
      "cell_type": "markdown",
      "metadata": {
        "id": "a2BrKHq8m8AS",
        "colab_type": "text"
      },
      "source": [
        "## Stretch goals:\n",
        "\n",
        "### 1. Refactor your code so it is elegant, readable, and holds reusable code in functions."
      ]
    },
    {
      "cell_type": "code",
      "metadata": {
        "id": "xUan4Ctop-6d",
        "colab_type": "code",
        "colab": {}
      },
      "source": [
        "# YOUR WORK HERE\n",
        "\n",
        "import numpy as np"
      ],
      "execution_count": 0,
      "outputs": []
    },
    {
      "cell_type": "code",
      "metadata": {
        "id": "ho3A4aLxsDpi",
        "colab_type": "code",
        "colab": {}
      },
      "source": [
        "def mychi2_man(df, name1, name2):\n",
        "  observed=pd.crosstab(df[name1], df[name2])\n",
        "  observed_with_margins = pd.crosstab(df[name1], df[name2], margins=True)\n",
        "  row_totals = observed_with_margins.iloc[-1, :-1].values\n",
        "  col_totals = observed_with_margins.iloc[:-1, -1].values\n",
        "  sample_size = df.shape[0]\n",
        "  expected = np.zeros((len(df[name1].value_counts()),len(df[name2].value_counts())))\n",
        "  for j, col in enumerate(col_totals):\n",
        "    for i, row in enumerate(row_totals): \n",
        "      expected_value = (row*col / sample_size)\n",
        "      # print(expected_value, i, j,'\\n')\n",
        "      expected[j][i] = expected_value\n",
        "  observed_arr = observed.to_numpy()\n",
        "  chi2 = ((observed_arr - expected)**2 / expected).sum()\n",
        "  dof = (len(df[name1].value_counts())-1)*(len(df[name2].value_counts())-1)\n",
        "  print(\"Use the chi2 statistics to get the pval\")\n",
        "  return observed_arr, expected, chi2, dof\n"
      ],
      "execution_count": 0,
      "outputs": []
    },
    {
      "cell_type": "code",
      "metadata": {
        "id": "7lThWATNuTJO",
        "colab_type": "code",
        "colab": {
          "base_uri": "https://localhost:8080/",
          "height": 176
        },
        "outputId": "d3603278-aba4-467c-9d5a-d2b3de9542c8"
      },
      "source": [
        "observed, expected, chi2, dof = mychi2_man(df, \"sex\",\"failures\")\n",
        "print(\"chi2 statistic\", chi2)\n",
        "print(\"degrees of freedom\",dof)\n",
        "print(\"expected frequencies table\", expected)\n",
        "print(\" Here is the cross table: \\n\")\n",
        "observed\n"
      ],
      "execution_count": 8,
      "outputs": [
        {
          "output_type": "stream",
          "text": [
            "Use the chi2 statistics to get the pval\n",
            "chi2 statistic 3.5302645725647808\n",
            "degrees of freedom 3\n",
            "expected frequencies table [[164.29367089  26.32911392   8.95189873   8.42531646]\n",
            " [147.70632911  23.67088608   8.04810127   7.57468354]]\n",
            " Here is the cross table: \n",
            "\n"
          ],
          "name": "stdout"
        },
        {
          "output_type": "execute_result",
          "data": {
            "text/plain": [
              "array([[168,  23,  11,   6],\n",
              "       [144,  27,   6,  10]])"
            ]
          },
          "metadata": {
            "tags": []
          },
          "execution_count": 8
        }
      ]
    },
    {
      "cell_type": "code",
      "metadata": {
        "id": "AntnuAkFm-JQ",
        "colab_type": "code",
        "colab": {
          "base_uri": "https://localhost:8080/",
          "height": 247
        },
        "outputId": "08fbc000-b337-41de-abe7-5b4157a9051c"
      },
      "source": [
        "observed, expected, chi2, dof = mychi2_man(df,\"studytime\", \"famsize\")\n",
        "print(\"chi2 statistic\", chi2)\n",
        "print(\"degrees of freedom\",dof)\n",
        "print(\"expected frequencies table\", expected)\n",
        "print(\" Here is the cross table: \\n\")\n",
        "observed"
      ],
      "execution_count": 10,
      "outputs": [
        {
          "output_type": "stream",
          "text": [
            "Use the chi2 statistics to get the pval\n",
            "chi2 statistic 11.094354817820511\n",
            "degrees of freedom 3\n",
            "expected frequencies table [[ 74.69620253  30.30379747]\n",
            " [140.8556962   57.1443038 ]\n",
            " [ 46.24050633  18.75949367]\n",
            " [ 19.20759494   7.79240506]]\n",
            " Here is the cross table: \n",
            "\n"
          ],
          "name": "stdout"
        },
        {
          "output_type": "execute_result",
          "data": {
            "text/plain": [
              "array([[ 74,  31],\n",
              "       [131,  67],\n",
              "       [ 57,   8],\n",
              "       [ 19,   8]])"
            ]
          },
          "metadata": {
            "tags": []
          },
          "execution_count": 10
        }
      ]
    },
    {
      "cell_type": "markdown",
      "metadata": {
        "id": "4ohsJhQUmEuS",
        "colab_type": "text"
      },
      "source": [
        "\n",
        "\n",
        "### 2. Check For Understanding - Study and write your own explanations/definitions for these topics:\n",
        "\n",
        "- What is a sample \"estimate\" in statistics?\n",
        "\n",
        "- What are hypothesis test? How are they useful?\n",
        "\n",
        "- What is a \"null hypothesis?\"\n",
        "\n",
        "- What is a p-value and what does it represent?\n",
        "\n",
        "- What does it mean for something to be \"statistically significant?\"\n",
        "\n",
        "- What is a test statistic and how does it relate to a p-value?\n",
        "\n",
        "- What are \"degrees of freedom\" and how are they calculated in a 1-sample, 2-sample, and chi^2 test for independence?"
      ]
    },
    {
      "cell_type": "markdown",
      "metadata": {
        "id": "nyJ3ySr7R2k9",
        "colab_type": "text"
      },
      "source": [
        "## Resources\n",
        "\n",
        "- [Interactive visualize the Chi-Squared test](https://homepage.divms.uiowa.edu/~mbognar/applets/chisq.html)\n",
        "- [Calculation of Chi-Squared test statistic](https://en.wikipedia.org/wiki/Pearson%27s_chi-squared_test)\n",
        "- [Visualization of a confidence interval generated by R code](https://commons.wikimedia.org/wiki/File:Confidence-interval.svg)\n",
        "- [Expected value of a squared standard normal](https://math.stackexchange.com/questions/264061/expected-value-calculation-for-squared-normal-distribution) (it's 1 - which is why the expected value of a Chi-Squared with $n$ degrees of freedom is $n$, as it's the sum of $n$ squared standard normals)"
      ]
    }
  ]
}